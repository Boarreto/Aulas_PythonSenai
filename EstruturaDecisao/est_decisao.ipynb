{
  "nbformat": 4,
  "nbformat_minor": 0,
  "metadata": {
    "colab": {
      "provenance": []
    },
    "kernelspec": {
      "name": "python3",
      "display_name": "Python 3"
    },
    "language_info": {
      "name": "python"
    }
  },
  "cells": [
    {
      "cell_type": "code",
      "execution_count": null,
      "metadata": {
        "colab": {
          "base_uri": "https://localhost:8080/"
        },
        "id": "9Lq4_2yCogZU",
        "outputId": "cac3fd35-181c-4336-b731-cb47b28f528b"
      },
      "outputs": [
        {
          "output_type": "stream",
          "name": "stdout",
          "text": [
            "Digite um numero: 1\n",
            "\n",
            "O numero e menor que 10\n"
          ]
        }
      ],
      "source": [
        "num = int(input(\"Digite um numero: \"))\n",
        "print()\n",
        "if num > 10:\n",
        "  print(\"O numero e maior que 10\")\n",
        "if num == 10:\n",
        "  print(\"O numero e igual a 10\")\n",
        "if num < 10:\n",
        "  print(\"O numero e menor que 10\")\n",
        "\n"
      ]
    },
    {
      "cell_type": "code",
      "source": [
        "#if e else\n",
        "\n",
        "n = int(input(\"Digite um numero: \"))\n",
        "\n",
        "if n > 10:\n",
        "  print(\"E maior que 10\")\n",
        "elif n < 10:\n",
        "    print(\"Menor que 10\")\n",
        "else:\n",
        "    print(\"Igual a 10\")\n"
      ],
      "metadata": {
        "colab": {
          "base_uri": "https://localhost:8080/"
        },
        "id": "m1QSdgfB0Oaj",
        "outputId": "16151924-187a-40c7-f757-e6bce2a7b080"
      },
      "execution_count": null,
      "outputs": [
        {
          "output_type": "stream",
          "name": "stdout",
          "text": [
            "Digite um numero: 11\n",
            "E maior que 10\n"
          ]
        }
      ]
    },
    {
      "cell_type": "code",
      "source": [
        "# 14.00 pontual\n",
        "# < 14.00 adiantado\n",
        "# > 14.00 atrasado\n",
        "\n",
        "horario = float(input(\"Digite o horario de chegada: \"))\n",
        "\n",
        "if horario == 14.00:\n",
        "  print(\"Pontual\")\n",
        "\n",
        "elif horario < 14.00:\n",
        "    print(\"Adiantado\")\n",
        "elif horario < 14.30:\n",
        "    print(\"atrasado pode entrar\")\n",
        "elif horario > 14.30:\n",
        "    print(\"atrasado falta na aula\")\n",
        "\n"
      ],
      "metadata": {
        "colab": {
          "base_uri": "https://localhost:8080/"
        },
        "id": "zQgF5GTf2iYU",
        "outputId": "ddc1a521-62fe-4741-861b-5a3e71e0c429"
      },
      "execution_count": null,
      "outputs": [
        {
          "output_type": "stream",
          "name": "stdout",
          "text": [
            "Digite o horario de chegada: 14.00\n",
            "Pontual\n"
          ]
        }
      ]
    },
    {
      "cell_type": "code",
      "source": [
        "num1 = int(input(\"Digite o primeiro numero: \"))\n",
        "num2 = int(input(\"Digite o segundo numero: \"))\n",
        "\n",
        "soma = num1 + num2\n",
        "\n",
        "if soma > 10:\n",
        "  print(soma)"
      ],
      "metadata": {
        "colab": {
          "base_uri": "https://localhost:8080/"
        },
        "id": "v49WS-6ILIS-",
        "outputId": "723aaed1-b4dc-423f-b3e9-e8c0b159361f"
      },
      "execution_count": null,
      "outputs": [
        {
          "name": "stdout",
          "output_type": "stream",
          "text": [
            "Digite o primeiro numero: 1\n",
            "Digite o segundo numero: 2\n"
          ]
        }
      ]
    },
    {
      "cell_type": "code",
      "source": [
        "num = float(input(\"Digite um numero: \"))\n",
        "\n",
        "if num > 20:\n",
        "  maior = num/2\n",
        "  print(maior)\n",
        "else:\n",
        "  print(\"Erro no numero digitado\")"
      ],
      "metadata": {
        "colab": {
          "base_uri": "https://localhost:8080/"
        },
        "id": "mJr2-lfKPXXH",
        "outputId": "df29c9ec-a92c-4366-931c-fdd63c02c5eb"
      },
      "execution_count": null,
      "outputs": [
        {
          "output_type": "stream",
          "name": "stdout",
          "text": [
            "Digite um numero: 20.01\n",
            "10.005\n"
          ]
        }
      ]
    },
    {
      "cell_type": "code",
      "source": [
        "num1 = int(input(\"Digite o primeiro numero: \"))\n",
        "num2 = int(input(\"Digite o segundo numero: \"))\n",
        "\n",
        "\n",
        "if num1 > num2:\n",
        "  print(num2,num1)\n",
        "else:\n",
        "  print(num1,num2)"
      ],
      "metadata": {
        "colab": {
          "base_uri": "https://localhost:8080/"
        },
        "id": "yc7E5ihCTR5X",
        "outputId": "8ccd4fbb-b629-416c-a00f-88f26c2f2029"
      },
      "execution_count": null,
      "outputs": [
        {
          "output_type": "stream",
          "name": "stdout",
          "text": [
            "Digite o primeiro numero: 30\n",
            "Digite o segundo numero: 15\n",
            "15 30\n"
          ]
        }
      ]
    },
    {
      "cell_type": "code",
      "source": [
        "num = int(input(\"Digite um numero: \"))\n",
        "\n",
        "if num > 20:\n",
        "  print(\"Maior que 20\")\n",
        "elif num < 20:\n",
        "  print(\"Menor que 20\")\n",
        "else:\n",
        "  print(\"Igual a 20\")"
      ],
      "metadata": {
        "colab": {
          "base_uri": "https://localhost:8080/"
        },
        "id": "Fe7ptTuRVZGI",
        "outputId": "dff73805-dcaa-4d6d-9176-319a0a14e409"
      },
      "execution_count": null,
      "outputs": [
        {
          "output_type": "stream",
          "name": "stdout",
          "text": [
            "Digite um numero: 20\n",
            "Igual a 20\n"
          ]
        }
      ]
    },
    {
      "cell_type": "code",
      "source": [
        "ano_nasc = int(input(\"Digite o ano de nascimento: \"))\n",
        "\n",
        "ano_atual = 2025\n",
        "calcula = ano_atual - ano_nasc\n",
        "\n",
        "if ano_nasc > 2025:\n",
        "  print(\"Ano incorreto, maior que o ano atual\")\n",
        "\n",
        "elif calcula > 150:\n",
        "  print(\"Idade maior que o permitido no cadastro:\",calcula)\n",
        "\n",
        "elif calcula > 25:\n",
        "    print(calcula)\n",
        "\n"
      ],
      "metadata": {
        "colab": {
          "base_uri": "https://localhost:8080/"
        },
        "id": "Fb7OCNpnXj1w",
        "outputId": "920825e1-f007-403c-9545-9b6dc5439fef"
      },
      "execution_count": null,
      "outputs": [
        {
          "output_type": "stream",
          "name": "stdout",
          "text": [
            "Digite o ano de nascimento: 1850\n",
            "Idade maior que o permitido no cadastro 175\n"
          ]
        }
      ]
    }
  ]
}