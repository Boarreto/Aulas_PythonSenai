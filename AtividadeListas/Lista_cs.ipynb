{
  "nbformat": 4,
  "nbformat_minor": 0,
  "metadata": {
    "colab": {
      "provenance": []
    },
    "kernelspec": {
      "name": "python3",
      "display_name": "Python 3"
    },
    "language_info": {
      "name": "python"
    }
  },
  "cells": [
    {
      "cell_type": "code",
      "execution_count": null,
      "metadata": {
        "colab": {
          "base_uri": "https://localhost:8080/"
        },
        "id": "Dpi-zdjs4N31",
        "outputId": "bc966bf5-8e9a-4e1c-998e-fb475daac856"
      },
      "outputs": [
        {
          "output_type": "stream",
          "name": "stdout",
          "text": [
            "[]\n"
          ]
        }
      ],
      "source": [
        "lista = []\n",
        "print(lista)"
      ]
    },
    {
      "cell_type": "code",
      "source": [
        "# acessando lista\n",
        "\n",
        "lista = [10,11,12,14,15,16]\n",
        "\n",
        "print(lista[0])\n",
        "lista[1] = 25\n",
        "print(lista[1])"
      ],
      "metadata": {
        "colab": {
          "base_uri": "https://localhost:8080/"
        },
        "id": "BTl7vU8e7OOM",
        "outputId": "b8e2818e-9847-4ad1-e197-bf2dd0a7bc8f"
      },
      "execution_count": null,
      "outputs": [
        {
          "output_type": "stream",
          "name": "stdout",
          "text": [
            "10\n",
            "25\n"
          ]
        }
      ]
    },
    {
      "cell_type": "code",
      "source": [
        "letras = ['a','b','c','d','e']\n",
        "\n",
        "print(letras[-1])"
      ],
      "metadata": {
        "colab": {
          "base_uri": "https://localhost:8080/"
        },
        "id": "SRJRCMKN-7xE",
        "outputId": "92d539e8-c2ba-4fb6-bbfb-55175903a50a"
      },
      "execution_count": null,
      "outputs": [
        {
          "output_type": "stream",
          "name": "stdout",
          "text": [
            "e\n"
          ]
        }
      ]
    },
    {
      "cell_type": "code",
      "source": [
        "#lista de um texto\n",
        "\n",
        "palavra = 'braganca'\n",
        "\n",
        "print(palavra[0])"
      ],
      "metadata": {
        "colab": {
          "base_uri": "https://localhost:8080/"
        },
        "id": "NkLfh93lBGqT",
        "outputId": "e9609c9a-fd34-4f12-eaed-4861ae52d9cf"
      },
      "execution_count": null,
      "outputs": [
        {
          "output_type": "stream",
          "name": "stdout",
          "text": [
            "b\n"
          ]
        }
      ]
    },
    {
      "cell_type": "code",
      "source": [
        "# add elementos\n",
        "\n",
        "lista = []\n",
        "\n",
        "lista.append(10)\n",
        "\n",
        "print(lista)"
      ],
      "metadata": {
        "colab": {
          "base_uri": "https://localhost:8080/"
        },
        "id": "nDfKjcfJCkub",
        "outputId": "a7a842b5-96bd-4007-9707-fe338a2fe4da"
      },
      "execution_count": null,
      "outputs": [
        {
          "output_type": "stream",
          "name": "stdout",
          "text": [
            "[10]\n"
          ]
        }
      ]
    },
    {
      "cell_type": "code",
      "source": [
        "#add lista com repeticao\n",
        "\n",
        "op = ''\n",
        "lista = []\n",
        "while op != 's':\n",
        "  n = int(input(\"Digite um numero: \"))\n",
        "  lista.append(n)\n",
        "  op = input(\"Digite a operacao(a = adicionar | s = sair)\")\n",
        "\n",
        "print(lista)\n"
      ],
      "metadata": {
        "id": "5dtN4-h9DuRU"
      },
      "execution_count": null,
      "outputs": []
    },
    {
      "cell_type": "code",
      "source": [
        "# limpa a lista\n",
        "\n",
        "print(lista)\n",
        "lista.clear()\n",
        "print(lista)"
      ],
      "metadata": {
        "colab": {
          "base_uri": "https://localhost:8080/"
        },
        "id": "FJ9EasNSGozr",
        "outputId": "b456803a-2579-46fd-958d-76655c935838"
      },
      "execution_count": null,
      "outputs": [
        {
          "output_type": "stream",
          "name": "stdout",
          "text": [
            "[]\n",
            "[]\n"
          ]
        }
      ]
    },
    {
      "cell_type": "code",
      "source": [
        "# insert lista\n",
        "\n",
        "lista0 = ['A','B','C','D','E']\n",
        "print(lista0)\n",
        "\n",
        "lista0.insert(0,'F')\n",
        "print(lista0)\n",
        "\n",
        "print(lista0[2])\n",
        "lista0[2] = 2\n",
        "print(lista0[2])\n",
        "print(lista0)"
      ],
      "metadata": {
        "colab": {
          "base_uri": "https://localhost:8080/"
        },
        "id": "ARsVI7FMHu-r",
        "outputId": "3227a7f0-16ab-4b28-d146-0e4fba1c8111"
      },
      "execution_count": null,
      "outputs": [
        {
          "output_type": "stream",
          "name": "stdout",
          "text": [
            "['A', 'B', 'C', 'D', 'E']\n",
            "['F', 'A', 'B', 'C', 'D', 'E']\n",
            "B\n",
            "2\n",
            "['F', 'A', 2, 'C', 'D', 'E']\n"
          ]
        }
      ]
    },
    {
      "cell_type": "code",
      "source": [
        "# ADICIONANDO E LISTA ELEMENTOS\n",
        "\n",
        "l = []\n",
        "c = 0\n",
        "while c < 4:\n",
        "  n = int(input(\"Digite um numero: \"))\n",
        "  l.append(n)\n",
        "  c = c + 1\n",
        "print(l)\n",
        "\n",
        "c = 0\n",
        "while c < 4:\n",
        "  print(l[c])\n",
        "\n",
        "  c = c + 1\n",
        "\n",
        "# mostrar numero a numero usando outro while\n",
        "\n",
        "\n"
      ],
      "metadata": {
        "colab": {
          "base_uri": "https://localhost:8080/"
        },
        "id": "gnNvsK9MJ7ID",
        "outputId": "7f3a0491-df4b-45bb-9d07-e1a606c0408e"
      },
      "execution_count": null,
      "outputs": [
        {
          "output_type": "stream",
          "name": "stdout",
          "text": [
            "Digite um numero: 10\n",
            "Digite um numero: 2\n",
            "Digite um numero: 30\n",
            "Digite um numero: 40\n",
            "[10, 2, 30, 40]\n",
            "10\n",
            "2\n",
            "30\n",
            "40\n"
          ]
        }
      ]
    },
    {
      "cell_type": "code",
      "source": [
        "lista = []\n",
        "c = 0\n",
        "while c < 6:\n",
        "  n = int(input(\"Digite um numero: \"))\n",
        "  lista.append(n)\n",
        "  c = c + 1\n",
        "\n",
        "c = 0\n",
        "soma = 0\n",
        "while c < 6:\n",
        "   soma += lista[c]\n",
        "   c = c + 1\n",
        "print(\"A soma total e:\",soma)\n"
      ],
      "metadata": {
        "colab": {
          "base_uri": "https://localhost:8080/"
        },
        "id": "41JQr21HOYlx",
        "outputId": "d354791a-bcbe-435e-c7f8-861e3203fc65"
      },
      "execution_count": null,
      "outputs": [
        {
          "output_type": "stream",
          "name": "stdout",
          "text": [
            "Digite um numero: 15\n",
            "Digite um numero: 2\n",
            "Digite um numero: 3\n",
            "Digite um numero: 15\n",
            "Digite um numero: 20\n",
            "Digite um numero: 30\n",
            "A soma total e: 85\n"
          ]
        }
      ]
    },
    {
      "cell_type": "code",
      "source": [
        "lista = []\n",
        "c = 0\n",
        "\n",
        "while c < 6:\n",
        "  n = int(input(\"Digite um numero: \"))\n",
        "  lista.append(n)\n",
        "  c = c + 1\n",
        "\n",
        "c = 0\n",
        "while c < 6:\n",
        "  if lista[c] >= 0:\n",
        "    print(lista[c])\n",
        "\n",
        "  c = c + 1"
      ],
      "metadata": {
        "colab": {
          "base_uri": "https://localhost:8080/"
        },
        "collapsed": true,
        "id": "Rls2vrm5hPJX",
        "outputId": "b9f72971-4c8d-4058-e66c-7388298d879e"
      },
      "execution_count": null,
      "outputs": [
        {
          "output_type": "stream",
          "name": "stdout",
          "text": [
            "Digite um numero: 1\n",
            "Digite um numero: -10\n",
            "Digite um numero: -20\n",
            "Digite um numero: -50\n",
            "Digite um numero: -2\n",
            "Digite um numero: 2\n",
            "1\n",
            "2\n"
          ]
        }
      ]
    },
    {
      "cell_type": "code",
      "source": [
        "lista = []\n",
        "c = 0\n",
        "contador = 0\n",
        "soma = 0\n",
        "media = 0\n",
        "while c < 6:\n",
        "  notas = int(input(f\"Digite a nota do aluno {contador + 1}: \"))\n",
        "  lista.append(notas)\n",
        "  soma += notas\n",
        "  contador +=1\n",
        "media = soma / contador\n",
        "\n",
        "  c = c + 1\n",
        "\n",
        "c = 0\n",
        "while c < 4:\n",
        "    if lista[c] < 7:\n",
        "      print(\"Alunos abaixo da media\")\n",
        "      print(lista[c])\n",
        "c = c + 1\n",
        "print(\"A media da sala e\",media)\n",
        "\n"
      ],
      "metadata": {
        "colab": {
          "base_uri": "https://localhost:8080/"
        },
        "id": "JGkjVvdfo6Un",
        "outputId": "1e8c71be-9c86-43c4-c6e3-1fa78b29115f"
      },
      "execution_count": null,
      "outputs": [
        {
          "output_type": "stream",
          "name": "stdout",
          "text": [
            "Digite a nota do aluno 1: 10\n",
            "Digite a nota do aluno 2: 5\n",
            "Digite a nota do aluno 3: 6\n",
            "Digite a nota do aluno 4: 8\n",
            "Digite a nota do aluno 5: 10\n",
            "Digite a nota do aluno 6: 9\n",
            "8.0\n"
          ]
        }
      ]
    },
    {
      "cell_type": "code",
      "source": [
        "lista = []\n",
        "c = 0\n",
        "while c < 4:\n",
        "  n =int(input(\"Digite uma nota: \"))\n",
        "  lista.append(n)\n",
        "  c = c + 1\n",
        "\n",
        "c = 0\n",
        "soma = 0\n",
        "\n",
        "while c < 4:\n",
        "  soma = soma + lista[c]\n",
        "  c = c +1\n",
        "media = soma / 4\n",
        "print(media)\n",
        "\n",
        "c = 0\n",
        "n_abaixo = 0\n",
        "n_acima = 0\n",
        "\n",
        "while c < 4:\n",
        "  if lista[c] < media:\n",
        "    n_abaixo = n_abaixo + 1\n",
        "  elif lista[c] > media:\n",
        "    n_acima = n_acima + 1\n",
        "  c = c + 1\n",
        "\n",
        "print(\"Media\", media)\n",
        "print(\"Numero abaixo: \",n_abaixo)\n",
        "print(\"Numero acima: \",n_acima)"
      ],
      "metadata": {
        "colab": {
          "base_uri": "https://localhost:8080/"
        },
        "id": "XQ10C4N2G4lp",
        "outputId": "2369d5a1-3c04-4a08-cacd-d86294bc0ab9"
      },
      "execution_count": null,
      "outputs": [
        {
          "output_type": "stream",
          "name": "stdout",
          "text": [
            "Digite uma nota: 10\n",
            "Digite uma nota: 6\n",
            "Digite uma nota: 5\n",
            "Digite uma nota: 3\n",
            "6.0\n",
            "Media 6.0\n",
            "Numero abaixo:  2\n",
            "Numero acima:  1\n"
          ]
        }
      ]
    },
    {
      "cell_type": "code",
      "source": [
        "# descobrir tamanho\n",
        "\n",
        "lista = [2,3,4,5]\n",
        "\n",
        "print(len(lista))"
      ],
      "metadata": {
        "colab": {
          "base_uri": "https://localhost:8080/"
        },
        "id": "v0hCRXeSJhGx",
        "outputId": "a45d7fc8-ae16-442c-8abb-a9f0603a1303"
      },
      "execution_count": null,
      "outputs": [
        {
          "output_type": "stream",
          "name": "stdout",
          "text": [
            "4\n"
          ]
        }
      ]
    },
    {
      "cell_type": "code",
      "source": [
        "lista = [2,3,4,5,6,7]\n",
        "\n",
        "print(lista)\n",
        "del(lista[0])\n",
        "print(lista)"
      ],
      "metadata": {
        "colab": {
          "base_uri": "https://localhost:8080/"
        },
        "id": "irdIM7kJLFPi",
        "outputId": "d93634ad-64d8-4db4-f492-c320a4d91167"
      },
      "execution_count": null,
      "outputs": [
        {
          "output_type": "stream",
          "name": "stdout",
          "text": [
            "[2, 3, 4, 5, 6, 7]\n",
            "[3, 4, 5, 6, 7]\n"
          ]
        }
      ]
    },
    {
      "cell_type": "code",
      "source": [
        "# C.R.U.D\n",
        "\n",
        "list_crud = []\n",
        "\n",
        "# CREATE\n",
        "list_crud.append(10)\n",
        "list_crud.append(20)\n",
        "list_crud.append(35)\n",
        "\n",
        "# READ\n",
        "\n",
        "print(list_crud)\n",
        "\n",
        "# UPDATE\n",
        "\n",
        "list_crud[1] = 99\n",
        "\n",
        "print(list_crud)\n",
        "\n",
        "del(list_crud[2])\n",
        "\n",
        "print(list_crud)"
      ],
      "metadata": {
        "colab": {
          "base_uri": "https://localhost:8080/"
        },
        "id": "QFbGK0tsNAgb",
        "outputId": "1aad1791-5001-4559-e9f5-2e56cee5a7fc"
      },
      "execution_count": null,
      "outputs": [
        {
          "output_type": "stream",
          "name": "stdout",
          "text": [
            "[10, 20, 35]\n",
            "[10, 99, 35]\n",
            "[10, 99]\n"
          ]
        }
      ]
    },
    {
      "cell_type": "code",
      "source": [
        "# POP - EXCLUIR E MOSTRAR\n",
        "\n",
        "lista = [2,4,5,6]\n",
        "\n",
        "print(lista.pop(0))\n",
        "print(lista)"
      ],
      "metadata": {
        "colab": {
          "base_uri": "https://localhost:8080/"
        },
        "id": "GUozOPftQ_ZV",
        "outputId": "7cbcf5bc-2ce4-4bcb-a1f5-7f339ed3443f"
      },
      "execution_count": null,
      "outputs": [
        {
          "output_type": "stream",
          "name": "stdout",
          "text": [
            "2\n",
            "[4, 5, 6]\n"
          ]
        }
      ]
    },
    {
      "cell_type": "code",
      "source": [
        "# CRUD COM REPETICAO\n",
        "\n",
        "print(\"Cadastro de mapas Counter Strike\")\n",
        "lista = []\n",
        "op = ''\n",
        "\n",
        "while op != 0:\n",
        "\n",
        "  print()\n",
        "  print(\"Lista de mapas competitivos\")\n",
        "# listagem\n",
        "  c = 0\n",
        "  while c < len(lista):\n",
        "    print(c,\" \",lista[c])\n",
        "    c = c + 1\n",
        "\n",
        "  print()\n",
        "  print(\"*******************\")\n",
        "  print(\"1 - cadastro\")\n",
        "  print(\"2 - atualizacao\")\n",
        "  print(\"3 - deletar\")\n",
        "  print(\"0 - sair\")\n",
        "  print(\"*******************\")\n",
        "\n",
        "\n",
        "  op = int(input(\"Digite a opcao: \"))\n",
        "  if op == 1:\n",
        "    mapa = input(\"Digite o mapa: \")\n",
        "    lista.append(mapa)\n",
        "  elif op == 2:\n",
        "    codigo = int (input(\"Digite o codigo do mapa\"))\n",
        "    lista[codigo] = input(\"Trocar map_pool competitivo: \")\n",
        "  elif op == 3:\n",
        "    codigo = int (input(\"Digite o codigo do mapa\"))\n",
        "    lista[codigo]\n",
        "    print(lista.pop(lista[codigo],\" - Excluido com sucesso\"))\n"
      ],
      "metadata": {
        "id": "LOO31SoZZEjx"
      },
      "execution_count": null,
      "outputs": []
    }
  ]
}