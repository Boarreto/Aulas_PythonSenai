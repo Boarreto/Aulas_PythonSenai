{
  "nbformat": 4,
  "nbformat_minor": 0,
  "metadata": {
    "colab": {
      "provenance": []
    },
    "kernelspec": {
      "name": "python3",
      "display_name": "Python 3"
    },
    "language_info": {
      "name": "python"
    }
  },
  "cells": [
    {
      "cell_type": "code",
      "execution_count": null,
      "metadata": {
        "id": "1qsS_7c1mHka"
      },
      "outputs": [],
      "source": [
        "for i in [2,3,4,5,6]:\n",
        "  print(i)"
      ]
    },
    {
      "cell_type": "code",
      "source": [
        "lista = [2,3,4,5,6,7,8,9]\n",
        "\n",
        "for item in lista:\n",
        "  print(item)"
      ],
      "metadata": {
        "id": "0OPPN-wHmyd1"
      },
      "execution_count": null,
      "outputs": []
    },
    {
      "cell_type": "code",
      "source": [
        "# lista[aonde comeca : aonde termina(a posicao sera o numero colocado -1) : quanto em quanto \"anda\"(numeros negativos mostra a lista invertida)]\n",
        "\n",
        "print(lista[0:7:2])"
      ],
      "metadata": {
        "id": "Iwq4_GOdnCP8"
      },
      "execution_count": null,
      "outputs": []
    },
    {
      "cell_type": "code",
      "source": [
        "#tupla - lista imutavel\n",
        "tupa = 2,3,4,5,6,7,8,9\n",
        "print(tupa)\n",
        "print(tupa[0])\n",
        "print(tupa[-1])\n",
        "print(tupa[0:2])\n",
        "\n",
        "print(type(tupa))\n",
        "l = list(tupa)\n",
        "l[2] = 3\n",
        "print(l)"
      ],
      "metadata": {
        "id": "AVydkIiPpdgF"
      },
      "execution_count": null,
      "outputs": []
    },
    {
      "cell_type": "code",
      "source": [
        "fruta = ['maca','banana','melao']\n",
        "for ind,fruta in enumerate(fruta):\n",
        "  print((ind + 1),\"-\",fruta)\n"
      ],
      "metadata": {
        "id": "ofWNrolupvcr"
      },
      "execution_count": null,
      "outputs": []
    },
    {
      "cell_type": "code",
      "source": [
        "lt = tuple(l)\n",
        "print(lt)"
      ],
      "metadata": {
        "id": "nwU1xdWztHbD"
      },
      "execution_count": null,
      "outputs": []
    },
    {
      "cell_type": "code",
      "source": [
        "# range\n",
        "numero = [2,3,4,5,6,7,8,9,10,11,12,13,14,15]\n",
        "for i in range(9,10,5):\n",
        "  print(numero)"
      ],
      "metadata": {
        "id": "uBs4hHNat7SD"
      },
      "execution_count": null,
      "outputs": []
    },
    {
      "cell_type": "code",
      "source": [
        "for numero in range(1,10)\n",
        "  print(numero)"
      ],
      "metadata": {
        "id": "1U8r9wYfvJPy"
      },
      "execution_count": null,
      "outputs": []
    },
    {
      "cell_type": "code",
      "source": [
        "for numero in range(20,41,2):\n",
        "  print(numero)"
      ],
      "metadata": {
        "id": "8TpW7z0px2YJ"
      },
      "execution_count": null,
      "outputs": []
    },
    {
      "cell_type": "code",
      "source": [
        "for numero in range(0,201,10):\n",
        "  print(numero)"
      ],
      "metadata": {
        "id": "GHlTmeupyCKx"
      },
      "execution_count": null,
      "outputs": []
    },
    {
      "cell_type": "code",
      "source": [
        "for numero in range(50,0,-1):\n",
        "  print(numero)"
      ],
      "metadata": {
        "id": "yh07LIAOyJ6I"
      },
      "execution_count": null,
      "outputs": []
    },
    {
      "cell_type": "code",
      "source": [
        "lista = list(range(50,0,-1))\n",
        "print(lista)"
      ],
      "metadata": {
        "id": "ztSJAGx3zM5g"
      },
      "execution_count": null,
      "outputs": []
    },
    {
      "cell_type": "code",
      "source": [
        "# list comprehension\n",
        "\n",
        "listaC = [pow(numero,2) for numero in range(1,10)]\n",
        "print(listaC)"
      ],
      "metadata": {
        "colab": {
          "base_uri": "https://localhost:8080/"
        },
        "id": "I8EJFb8qzH6w",
        "outputId": "ed0ac845-2f79-4c50-a6f1-7cc48c3ef8fe"
      },
      "execution_count": null,
      "outputs": [
        {
          "output_type": "stream",
          "name": "stdout",
          "text": [
            "[1, 4, 9, 16, 25, 36, 49, 64, 81]\n"
          ]
        }
      ]
    }
  ]
}