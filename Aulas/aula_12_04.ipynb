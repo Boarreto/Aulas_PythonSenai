{
  "nbformat": 4,
  "nbformat_minor": 0,
  "metadata": {
    "colab": {
      "provenance": []
    },
    "kernelspec": {
      "name": "python3",
      "display_name": "Python 3"
    },
    "language_info": {
      "name": "python"
    }
  },
  "cells": [
    {
      "cell_type": "code",
      "execution_count": null,
      "metadata": {
        "id": "ABICQWHPBRQF"
      },
      "outputs": [],
      "source": [
        "lista = []\n",
        "c = 0\n",
        "contador = 0\n",
        "while c < 8:\n",
        "  numeros = int(input(f\"Digite o {contador + 1} numero: \"))\n",
        "  lista.append(numeros)\n",
        "  contador += 1\n",
        "  c = c + 1\n",
        "\n",
        "numeroBuscado = int(input(\"Digite o numero buscado: \"))\n",
        "\n",
        "c = 0\n",
        "encontrado = -1\n",
        "while c < 8:\n",
        "  if lista[c] == numeroBuscado:\n",
        "      encontrado = c\n",
        "      c = c + 1\n",
        "\n",
        "if encontrado == -1:\n",
        "  print(\"Numero na se econtra no vetor\")\n",
        "else:\n",
        "  print(\"O numero se encontra na posicao\",encontrado)\n"
      ]
    },
    {
      "cell_type": "code",
      "source": [
        "lista = []\n",
        "\n",
        "c = 0\n",
        "contador = 0\n",
        "while c < 10:\n",
        "  numero = int(input(f\"Digite o {contador + 1} numero: \"))\n",
        "  lista.append(numero)\n",
        "  contador +=1\n",
        "\n",
        "  c = c + 1\n",
        "print(lista)\n",
        "c = 0\n",
        "while c < 5:\n",
        "    temp = lista[c]\n",
        "    lista[c] = lista[(9 - c)]\n",
        "    lista[(9 - c)] = temp\n",
        "    c = c + 1\n",
        "\n",
        "\n",
        "print(lista)"
      ],
      "metadata": {
        "colab": {
          "base_uri": "https://localhost:8080/"
        },
        "id": "CK-qrlFhOVUS",
        "outputId": "63c601b5-1e1d-40be-b377-ed09d1d376ae"
      },
      "execution_count": null,
      "outputs": [
        {
          "output_type": "stream",
          "name": "stdout",
          "text": [
            "Digite o 1 numero: 10\n",
            "Digite o 2 numero: 6\n",
            "Digite o 3 numero: 5\n",
            "Digite o 4 numero: 9\n",
            "Digite o 5 numero: 1\n",
            "Digite o 6 numero: 5\n",
            "Digite o 7 numero: 6\n",
            "Digite o 8 numero: 4\n",
            "Digite o 9 numero: 8\n",
            "Digite o 10 numero: 9\n",
            "[]\n"
          ]
        }
      ]
    },
    {
      "cell_type": "code",
      "source": [
        "# fatiando listas\n",
        "\n",
        "lista = [20,30,10,50,60,70]\n",
        "\n",
        "print(lista)\n",
        "\n",
        "#comeca e aonde termina -1\n",
        "print(lista[3::])\n",
        "del(lista[0:5])\n",
        "print(lista)"
      ],
      "metadata": {
        "colab": {
          "base_uri": "https://localhost:8080/"
        },
        "id": "ejEzI1-Yf3Ud",
        "outputId": "c7dcae4b-f151-4bb1-b04e-45fa826d4a90"
      },
      "execution_count": null,
      "outputs": [
        {
          "output_type": "stream",
          "name": "stdout",
          "text": [
            "[20, 30, 10, 50, 60, 70]\n",
            "[50, 60, 70]\n",
            "[70]\n"
          ]
        }
      ]
    },
    {
      "cell_type": "code",
      "source": [
        "#pesquisa\n",
        "listap = [1,2,3,4,5,6,5]\n",
        "print(listap.index(4))\n",
        "\n",
        "#contagem\n",
        "print(listap.count(5))\n",
        "if 5 in listap == True:\n",
        "  print(\"tem na lista\")\n",
        "else:\n",
        "\n",
        "#esta presente\n",
        "  print(5 in listap)\n",
        "\n"
      ],
      "metadata": {
        "colab": {
          "base_uri": "https://localhost:8080/"
        },
        "id": "6yUCbetTo03X",
        "outputId": "4c9d3f50-c4b0-4834-e751-36b4d1966ea4"
      },
      "execution_count": null,
      "outputs": [
        {
          "output_type": "stream",
          "name": "stdout",
          "text": [
            "3\n",
            "2\n",
            "True\n"
          ]
        }
      ]
    },
    {
      "cell_type": "code",
      "source": [
        "# sort - ordenacao\n",
        "l1 = ['a','b','c','d','e']\n",
        "l2 = ['a','b','c','d','e']\n",
        "l1.sort()\n",
        "l2.sort(reverse=True)\n",
        "\n",
        "print(l1)\n",
        "print(l2)"
      ],
      "metadata": {
        "colab": {
          "base_uri": "https://localhost:8080/"
        },
        "id": "Ko_CE3-frGKH",
        "outputId": "39d15816-ed0c-4df0-cecb-a1891e71f70e"
      },
      "execution_count": null,
      "outputs": [
        {
          "output_type": "stream",
          "name": "stdout",
          "text": [
            "['a', 'b', 'c', 'd', 'e']\n",
            "['e', 'd', 'c', 'b', 'a']\n"
          ]
        }
      ]
    },
    {
      "cell_type": "code",
      "source": [
        "#invertendo lista\n",
        "l = [1,2,3,4,5,6,7,8,9]\n",
        "print(l)\n",
        "l.reverse()\n",
        "print(l)"
      ],
      "metadata": {
        "colab": {
          "base_uri": "https://localhost:8080/"
        },
        "id": "pX4sF0sLp1zX",
        "outputId": "29140a70-4c05-416c-8024-fc58012841fe"
      },
      "execution_count": null,
      "outputs": [
        {
          "output_type": "stream",
          "name": "stdout",
          "text": [
            "[1, 2, 3, 4, 5, 6, 7, 8, 9]\n",
            "[9, 8, 7, 6, 5, 4, 3, 2, 1]\n"
          ]
        }
      ]
    }
  ]
}