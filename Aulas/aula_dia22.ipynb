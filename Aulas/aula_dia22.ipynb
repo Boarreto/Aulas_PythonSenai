{
  "nbformat": 4,
  "nbformat_minor": 0,
  "metadata": {
    "colab": {
      "provenance": []
    },
    "kernelspec": {
      "name": "python3",
      "display_name": "Python 3"
    },
    "language_info": {
      "name": "python"
    }
  },
  "cells": [
    {
      "cell_type": "code",
      "execution_count": null,
      "metadata": {
        "id": "AQIw8lEgz--K"
      },
      "outputs": [],
      "source": [
        "c = 0\n",
        "while c <=100:\n",
        "  if c == 25:\n",
        "    print(\"Voce chegou no 25\")\n",
        "  else:\n",
        "    print(c)\n",
        "\n",
        "  c = c + 1"
      ]
    },
    {
      "cell_type": "code",
      "source": [
        "if c != 25:\n",
        "  print(c)\n",
        "else:\n",
        "  print(\"Voce chegou no 25\")"
      ],
      "metadata": {
        "colab": {
          "base_uri": "https://localhost:8080/"
        },
        "id": "KO3M9c7934Zb",
        "outputId": "cf6368b9-0d89-4332-cb41-6d0c3ce0c1e1"
      },
      "execution_count": null,
      "outputs": [
        {
          "output_type": "stream",
          "name": "stdout",
          "text": [
            "110\n"
          ]
        }
      ]
    },
    {
      "cell_type": "code",
      "source": [
        "c = 1\n",
        "while c <= 100:\n",
        "  print(c)\n",
        "  if c == 27:\n",
        "    break\n",
        "  c = c + 1\n"
      ],
      "metadata": {
        "id": "9m3HWY-T5KbS"
      },
      "execution_count": null,
      "outputs": []
    },
    {
      "cell_type": "code",
      "source": [
        "c = 0\n",
        "\n",
        "while c <= 100:\n",
        "  if c != 40 and c != 80:\n",
        "    print(c)\n",
        "  c = c + 10"
      ],
      "metadata": {
        "id": "UcPq2Syc6t1p"
      },
      "execution_count": null,
      "outputs": []
    },
    {
      "cell_type": "code",
      "source": [
        "c = 1\n",
        "\n",
        "while c <= 100:\n",
        "  if c < 50 or c > 59:\n",
        "    print(c)\n",
        "  c = c + 1"
      ],
      "metadata": {
        "id": "AZr9ihp6-hZh"
      },
      "execution_count": null,
      "outputs": []
    },
    {
      "cell_type": "code",
      "source": [
        "c = 1\n",
        "\n",
        "while c <= 100:\n",
        "  if c >= 50 and c <= 59:\n",
        "    pass\n",
        "  else:\n",
        "    print(c)\n",
        "  c = c + 1"
      ],
      "metadata": {
        "id": "K4eIVn1nCfEu"
      },
      "execution_count": null,
      "outputs": []
    },
    {
      "cell_type": "code",
      "source": [
        "op = ''\n",
        "\n",
        "while op != 's':\n",
        "  op = input(\"Digite um letra ou digite s para parar: \")\n",
        "\n",
        "print(\"Programa finalizados\")"
      ],
      "metadata": {
        "id": "Pw40E-iDDvc1"
      },
      "execution_count": null,
      "outputs": []
    },
    {
      "cell_type": "code",
      "source": [
        "contador = 0\n",
        "soma_salarios = 0\n",
        "\n",
        "while contador < 4:\n",
        "  salario = float(input(f\"Digite o salario do funcionario{contador + 1}: \"))\n",
        "  soma_salarios += salario\n",
        "  contador += 1\n",
        "\n",
        "print(f\"A soma dos salarios e: R${soma_salarios:.2f}\")"
      ],
      "metadata": {
        "colab": {
          "base_uri": "https://localhost:8080/"
        },
        "id": "Gt7v2iRJFwuz",
        "outputId": "1df728b6-a2e9-4010-adee-0fbec66b7b6f"
      },
      "execution_count": null,
      "outputs": [
        {
          "output_type": "stream",
          "name": "stdout",
          "text": [
            "Digite o salario do funcionario1: 1000\n",
            "Digite o salario do funcionario2: 10000\n",
            "Digite o salario do funcionario3: 1000\n",
            "Digite o salario do funcionario4: 1000\n",
            "A soma dos salarios e: R$13000.00\n"
          ]
        }
      ]
    },
    {
      "cell_type": "code",
      "source": [
        "fun1 = ''\n",
        "fun2 = ''\n",
        "fun3 = ''\n",
        "fun4 = ''\n",
        "\n",
        "while fun1 == '' and fun2 == '' and fun3 == '' and fun4 == '':\n",
        "  fun1 = float(input(\"Digite o salario do fun1:\"))\n",
        "  fun2 = float(input(\"Digite o salario do fun2:\"))\n",
        "  fun3 = float(input(\"Digite o salario do fun3:\"))\n",
        "  fun4 = float(input(\"Digite o salario do fun4:\"))\n",
        "\n",
        "  soma = fun1 + fun2 + fun3 + fun4\n",
        "print(\"A soma dos salarios e R$\",soma)"
      ],
      "metadata": {
        "colab": {
          "base_uri": "https://localhost:8080/"
        },
        "id": "XNvWbUYnN-FP",
        "outputId": "41b2fce9-55ef-45e5-a6bc-29d8b1771d04"
      },
      "execution_count": null,
      "outputs": [
        {
          "output_type": "stream",
          "name": "stdout",
          "text": [
            "Digite o salario do fun1:1000\n",
            "Digite o salario do fun2:1000\n",
            "Digite o salario do fun3:1000\n",
            "Digite o salario do fun4:1000\n",
            "A soma dos salarios e R$ 4000.0\n"
          ]
        }
      ]
    },
    {
      "cell_type": "code",
      "source": [
        "c = 0\n",
        "total_salario = 0\n",
        "\n",
        "while c < 4:\n",
        "  salario = float(input(\"Digite o salario: \"))\n",
        "  total_salario = total_salario + salario\n",
        "  c = c + 1\n",
        "\n",
        "print(total_salario)"
      ],
      "metadata": {
        "colab": {
          "base_uri": "https://localhost:8080/"
        },
        "id": "ztaqE-yiUDX0",
        "outputId": "4b0c818d-5da3-4b84-f080-e5cdb42ba73a"
      },
      "execution_count": null,
      "outputs": [
        {
          "output_type": "stream",
          "name": "stdout",
          "text": [
            "Digite o salario: 10\n",
            "Digite o salario: 10\n",
            "Digite o salario: 10\n",
            "Digite o salario: 10\n",
            "40.0\n"
          ]
        }
      ]
    },
    {
      "cell_type": "code",
      "source": [
        "alunos = int(input(\"Digite a quantidade de alunos: \"))\n",
        "qtd_alunos = 0\n",
        "total_notas = 0\n",
        "\n",
        "while qtd_alunos < alunos:\n",
        "    notas = float(input(f\"Digite a nota do aluno{qtd_alunos + 1}: \"))\n",
        "    if notas > 10 or notas < 0:\n",
        "      print(\"A nota nao pode ser maior que 10\")\n",
        "    else:\n",
        "      total_notas += notas\n",
        "      qtd_alunos += 1\n",
        "      media = total_notas / qtd_alunos\n",
        "\n",
        "print(f\"A media total da sala e: {media:.1f}\")"
      ],
      "metadata": {
        "colab": {
          "base_uri": "https://localhost:8080/"
        },
        "id": "t-6JmpF1Wzna",
        "outputId": "86865ae4-5ef3-4fce-b076-29859b76fafe"
      },
      "execution_count": null,
      "outputs": [
        {
          "output_type": "stream",
          "name": "stdout",
          "text": [
            "Digite a quantidade de alunos: 5\n",
            "Digite a nota do aluno1: 10\n",
            "Digite a nota do aluno2: 5\n",
            "Digite a nota do aluno3: 6\n",
            "Digite a nota do aluno4: 8\n",
            "Digite a nota do aluno5: 1\n",
            "A media total da sala e: 6.0\n"
          ]
        }
      ]
    },
    {
      "cell_type": "code",
      "source": [
        "n_alunos = int(input(\"Digite a quantida de alunos: \"))\n",
        "c = 0\n",
        "soma_nota = 0\n",
        "\n",
        "\n",
        "while c < n_alunos:\n",
        "  nota = float(input(\"Digite as nota do aluno: \"))\n",
        "  soma_nota = soma_nota + nota\n",
        "  c = c + 1\n",
        "\n",
        "media = soma_nota / n_alunos\n",
        "print(\"A media da turma e:\",media)\n"
      ],
      "metadata": {
        "id": "pUh-0F43dP9H"
      },
      "execution_count": null,
      "outputs": []
    },
    {
      "cell_type": "code",
      "source": [
        "num = 0\n",
        "c = 0\n",
        "maior = 0\n",
        "\n",
        "while c < 6:\n",
        "  num = int(input(\"Digite um numero: \"))\n",
        "  if num > maior:\n",
        "    maior = num\n",
        "\n",
        "  c = c + 1\n",
        "print(maior)\n",
        "\n",
        "\n",
        "\n"
      ],
      "metadata": {
        "colab": {
          "base_uri": "https://localhost:8080/"
        },
        "id": "ROra-K37gj1O",
        "outputId": "df07c83e-6745-43c4-b296-0c6910a738e8"
      },
      "execution_count": null,
      "outputs": [
        {
          "output_type": "stream",
          "name": "stdout",
          "text": [
            "Digite um numero: 1\n",
            "Digite um numero: 2\n",
            "Digite um numero: 3\n",
            "Digite um numero: 5\n",
            "Digite um numero: 50\n",
            "Digite um numero: 2\n",
            "50\n"
          ]
        }
      ]
    }
  ]
}