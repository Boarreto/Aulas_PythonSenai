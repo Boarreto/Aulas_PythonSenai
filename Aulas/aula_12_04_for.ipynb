{
  "nbformat": 4,
  "nbformat_minor": 0,
  "metadata": {
    "colab": {
      "provenance": []
    },
    "kernelspec": {
      "name": "python3",
      "display_name": "Python 3"
    },
    "language_info": {
      "name": "python"
    }
  },
  "cells": [
    {
      "cell_type": "code",
      "execution_count": null,
      "metadata": {
        "id": "BA1n6FpArtZr"
      },
      "outputs": [],
      "source": [
        "for i in [2,3,4,5,6]:\n",
        "  print(i)"
      ]
    },
    {
      "cell_type": "code",
      "source": [
        "lista = [2,3,4,5,6,7]\n",
        "for item in lista:\n",
        "  print(item)"
      ],
      "metadata": {
        "id": "QRMuPorOtqCn"
      },
      "execution_count": null,
      "outputs": []
    },
    {
      "cell_type": "code",
      "source": [
        "lista = [2,3,4,5,6,7]\n",
        "for item in lista[::-1]:\n",
        "  print(item)"
      ],
      "metadata": {
        "id": "F0gpHUs_uVTW"
      },
      "execution_count": null,
      "outputs": []
    },
    {
      "cell_type": "code",
      "source": [
        "# enumerate\n",
        "\n",
        "lista = [2,3,4,5,6,7]\n",
        "for c,item in enumerate(lista):\n",
        "  print((c + 1),'-',item)\n"
      ],
      "metadata": {
        "colab": {
          "base_uri": "https://localhost:8080/"
        },
        "id": "qcvWvaCyvdcP",
        "outputId": "bbcc41a1-0ae7-47e5-9aa2-c1fe04123d63"
      },
      "execution_count": null,
      "outputs": [
        {
          "output_type": "stream",
          "name": "stdout",
          "text": [
            "0 - 2\n",
            "1 - 3\n",
            "2 - 4\n",
            "3 - 5\n",
            "4 - 6\n",
            "5 - 7\n"
          ]
        }
      ]
    },
    {
      "cell_type": "code",
      "source": [
        "# range\n",
        "for numero in range(10):\n",
        "  print(numero)\n",
        "print()\n",
        "for numero in range(2,10):\n",
        "  print(numero)\n",
        "print()\n",
        "for numero in range(2,10,2):\n",
        "  print(numero)"
      ],
      "metadata": {
        "id": "eWljuxt9w5HP"
      },
      "execution_count": null,
      "outputs": []
    },
    {
      "cell_type": "code",
      "source": [
        "# sort - ordenacao\n",
        "\n",
        "li1 = ['a','b','c','d','e','f','g']\n",
        "li2 = ['a','b','c','d','e','f','g']\n",
        "\n",
        "print(li1)\n",
        "print(li2)\n",
        "\n",
        "i1.sort()\n",
        "print(li1)\n",
        "li1.sort(reverse=False)\n",
        "print(li1)\n",
        "li2.sort(reverse=True)\n",
        "print(li2)\n"
      ],
      "metadata": {
        "id": "vZUkzpfmHUH1"
      },
      "execution_count": null,
      "outputs": []
    },
    {
      "cell_type": "code",
      "source": [
        "#maior e menor\n",
        "\n",
        "lista = [2,3,4,5,6,7,8,9,10]\n",
        "\n",
        "print(min(lista))\n",
        "print(max(lista))\n"
      ],
      "metadata": {
        "colab": {
          "base_uri": "https://localhost:8080/"
        },
        "id": "YVZMdhqRIAf1",
        "outputId": "20cb3b1f-29f6-40eb-c758-7f7046eeb0af"
      },
      "execution_count": null,
      "outputs": [
        {
          "output_type": "stream",
          "name": "stdout",
          "text": [
            "2\n",
            "10\n"
          ]
        }
      ]
    }
  ]
}