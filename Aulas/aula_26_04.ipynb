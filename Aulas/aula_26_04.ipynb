{
  "nbformat": 4,
  "nbformat_minor": 0,
  "metadata": {
    "colab": {
      "provenance": []
    },
    "kernelspec": {
      "name": "python3",
      "display_name": "Python 3"
    },
    "language_info": {
      "name": "python"
    }
  },
  "cells": [
    {
      "cell_type": "code",
      "execution_count": null,
      "metadata": {
        "colab": {
          "base_uri": "https://localhost:8080/"
        },
        "id": "_waRmtEfDh6B",
        "outputId": "550e38d5-cd30-4116-cb81-72383398e37b"
      },
      "outputs": [
        {
          "output_type": "stream",
          "name": "stdout",
          "text": [
            "Digite o numero que deseja procurar: 1\n",
            "O item nao esta na lista\n"
          ]
        }
      ],
      "source": [
        "lista = [2,3,4,5,6,7,8,9]\n",
        "\n",
        "busca = int(input(\"Digite o numero que deseja procurar: \"))\n",
        "\n",
        "if busca in lista:\n",
        "  print(lista.index(busca))\n",
        "else:\n",
        "  print(\"O item nao esta na lista\")"
      ]
    },
    {
      "cell_type": "code",
      "source": [
        "lista = [2,3,4,5,6,7,8,9]\n",
        "\n",
        "busca = ''\n",
        "\n",
        "while busca not in lista:\n",
        "\n",
        "  busca = int(input(\"Digite o numero que deseja procurar: \"))\n",
        "\n",
        "  if lista == []:\n",
        "      print(\"A lista esta vazia\")\n",
        "      break\n",
        "\n",
        "  elif busca in lista:\n",
        "      print(lista.index(busca))\n",
        "  else:\n",
        "    print(\"O item nao esta na lista\")"
      ],
      "metadata": {
        "colab": {
          "base_uri": "https://localhost:8080/"
        },
        "id": "ZUnRNLkISEZz",
        "outputId": "3c4a4cb5-3233-4551-d86f-ff4ec0bad519"
      },
      "execution_count": null,
      "outputs": [
        {
          "output_type": "stream",
          "name": "stdout",
          "text": [
            "Digite o numero que deseja procurar: 2\n",
            "0\n"
          ]
        }
      ]
    },
    {
      "cell_type": "code",
      "source": [
        "if lista.count(busca) > 0:\n",
        "  print(lista.index(busca))\n",
        "else:\n",
        "  print(\"O item nao esta na lista\")"
      ],
      "metadata": {
        "id": "P8yiuHz1XD2s"
      },
      "execution_count": null,
      "outputs": []
    },
    {
      "cell_type": "code",
      "source": [
        "lista = []\n",
        "c = 0\n",
        "adiciona = ''\n",
        "while c < 8:\n",
        "  adiciona = int(input(\"Adicione um item na lista: \"))\n",
        "\n",
        "  if adiciona not in lista:\n",
        "    lista.append(adiciona)\n",
        "    c = c + 1\n",
        "  elif adiciona in lista:\n",
        "   print(\"Item ja adicionado\")\n",
        "\n",
        "lista.sort()\n",
        "print(lista)"
      ],
      "metadata": {
        "colab": {
          "base_uri": "https://localhost:8080/"
        },
        "id": "a9HfCSq1Xsyb",
        "outputId": "ae007a7c-f7b4-4cef-d05a-e6e091c48186"
      },
      "execution_count": null,
      "outputs": [
        {
          "output_type": "stream",
          "name": "stdout",
          "text": [
            "Adicione um item na lista: 12\n",
            "Adicione um item na lista: 12\n",
            "Item ja adicionado\n",
            "Adicione um item na lista: 1\n",
            "Adicione um item na lista: 2\n",
            "Adicione um item na lista: 15\n",
            "Adicione um item na lista: 45\n",
            "Adicione um item na lista: 10\n",
            "Adicione um item na lista: 8\n",
            "Adicione um item na lista: 2\n",
            "Item ja adicionado\n",
            "Adicione um item na lista: 60\n",
            "[1, 2, 8, 10, 12, 15, 45, 60]\n"
          ]
        }
      ]
    }
  ]
}