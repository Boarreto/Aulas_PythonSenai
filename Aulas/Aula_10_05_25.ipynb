{
  "nbformat": 4,
  "nbformat_minor": 0,
  "metadata": {
    "colab": {
      "provenance": []
    },
    "kernelspec": {
      "name": "python3",
      "display_name": "Python 3"
    },
    "language_info": {
      "name": "python"
    }
  },
  "cells": [
    {
      "cell_type": "code",
      "execution_count": null,
      "metadata": {
        "id": "dPnwSapPNBrw"
      },
      "outputs": [],
      "source": [
        "# dicionario\n",
        "\n",
        "di1 = {\"Nome\":\"Vitor\",\n",
        "          \"Sobrenome\":\"Boarreto\",\n",
        "          \"Idade\":24,\n",
        "          \"Cursos\":[\"Eng computacao\", \"Python\",\"Arduino\"]\n",
        "          }\n",
        "\n",
        "print(di1)\n",
        "print(di1['Nome'])\n",
        "print(di1['Sobrenome'])\n",
        "print(di1['Idade'])\n",
        "print(di1['Cursos'])\n",
        "print(di1['Cursos'][0])\n",
        "print(\"--------\")\n",
        "print(\"*Cursos*\")\n",
        "print(\"--------\")\n",
        "for curso in  di1['Cursos']:\n",
        "  print(curso)"
      ]
    },
    {
      "cell_type": "code",
      "source": [
        "# Preenchimento do dicionario\n",
        "\n",
        "di2 = {}\n",
        "di2['nome'] = input(\"Digite um nome: \")\n",
        "di2['sobrenome'] = input(\"Digite o sobrenome: \")\n",
        "di2['idade'] = int(input(\"Digite a idade: \"))\n",
        "\n",
        "print(di2)\n",
        "print(di2['nome'])\n",
        "print(di2['sobrenome'])\n",
        "print(di2['idade'])"
      ],
      "metadata": {
        "id": "i6sHEjNoTCBl"
      },
      "execution_count": null,
      "outputs": []
    },
    {
      "cell_type": "code",
      "source": [
        "#Usando in para verificar chaves\n",
        "if 'nome' in di1:\n",
        "  print(\"Chave já cadastrada\")\n",
        "else:\n",
        "  di1['nome'] = input(\"Digite um nome: \")\n",
        "\n",
        "print('nome' in di1)\n",
        "print('nome' in di1 and 'Altura' in di1)\n",
        "print(di1)"
      ],
      "metadata": {
        "id": "zUh-N8feWMMt"
      },
      "execution_count": null,
      "outputs": []
    },
    {
      "cell_type": "code",
      "source": [
        "# Acessando valores\n",
        "\n",
        "print(di1['nome'])\n",
        "\n",
        "if 'alura' in di1:\n",
        "  print(di1['altura'])\n",
        "else:\n",
        "  di1['altura'] = float(input(\"Digite a altura: \"))\n",
        "print(di1)"
      ],
      "metadata": {
        "id": "rmSOwKM9XnBG"
      },
      "execution_count": null,
      "outputs": []
    },
    {
      "cell_type": "code",
      "source": [
        "# Adicionando listas ao dicionario\n",
        "\n",
        "if 'courses' not in di1:\n",
        "  di1['courses'] = []\n",
        "\n",
        "n_cursos = int(input(\"Quantos quer adicionar? \"))\n",
        "\n",
        "c = 0\n",
        "while c < n_cursos:\n",
        "  course = input(\"Digite o nome do curso: \")\n",
        "  di1['courses'].append(course)\n",
        "  c = c + 1\n",
        "\n",
        "print(di1)"
      ],
      "metadata": {
        "colab": {
          "base_uri": "https://localhost:8080/"
        },
        "id": "JKKrG0iYaIEl",
        "outputId": "7ef5cc93-1753-4421-ada5-3cd3cda8853d"
      },
      "execution_count": null,
      "outputs": [
        {
          "output_type": "stream",
          "name": "stdout",
          "text": [
            "Quantos quer adicionar? 1\n",
            "Digite o nome do curso: bo\n",
            "{'Nome': 'Vitor', 'Sobrenome': 'Boarreto', 'Idade': 24, 'Cursos': ['Eng computacao', 'Python', 'Arduino'], 'courses': ['arduino', 'bo']}\n"
          ]
        }
      ]
    },
    {
      "cell_type": "code",
      "source": [
        "# mostrando chaves e valores\n",
        "print(\"----------------\")\n",
        "print(\"Mostrando chaves\")\n",
        "print(\"----------------\")\n",
        "\n",
        "for c in di1:\n",
        "  print(c)\n",
        "print()\n",
        "print(\"-----------------\")\n",
        "print(\"Mostrando valores\")\n",
        "print(\"-----------------\")\n",
        "\n",
        "for v in di1.values():\n",
        "  print(v)\n",
        "print()\n",
        "print(\"--------------------------\")\n",
        "print(\"Mostrando chaves e valores\")\n",
        "print(\"--------------------------\")\n",
        "for c in di1:\n",
        "  print(c,'-',di1[c])\n"
      ],
      "metadata": {
        "id": "Uf8RDHX9evU-"
      },
      "execution_count": null,
      "outputs": []
    },
    {
      "cell_type": "code",
      "source": [
        "#chave dinamica\n",
        "\n",
        "chave = 'sobrenome'\n",
        "\n",
        "print(di1[chave])"
      ],
      "metadata": {
        "id": "mLqsKfYNp1VI"
      },
      "execution_count": null,
      "outputs": []
    },
    {
      "cell_type": "code",
      "source": [
        "#tipos de chave\n",
        "\n",
        "dd = {\"basica\":\"Vlor basico\"}\n",
        "print(dd[\"basica\"])"
      ],
      "metadata": {
        "id": "yurVovHnqW6Q"
      },
      "execution_count": null,
      "outputs": []
    },
    {
      "cell_type": "code",
      "source": [
        "# percorrendo um texto\n",
        "\n",
        "texto = 'Braganca'\n",
        "\n",
        "print(len(texto))\n",
        "print(texto[0])\n",
        "\n",
        "for letra in texto:\n",
        "  print(letra)"
      ],
      "metadata": {
        "id": "U3UTzJPQr5WI"
      },
      "execution_count": null,
      "outputs": []
    },
    {
      "cell_type": "code",
      "source": [
        "aluno1 = {\"nome\":\"vitor\",\"idade\":24,\"curso\":\"python\"}\n",
        "aluno2 = {\"nome2\":\"alberto\",\"idade2\":25,\"curso\":\"python\"}\n",
        "aluno3 = {\"nome3\":\"boarreto\",\"idade3\":26,\"curso\":\"python\"}\n",
        "\n",
        "lista = []\n",
        "\n",
        "lista.append(aluno1)\n",
        "lista.append(aluno2)\n",
        "lista.append(aluno3)\n",
        "\n",
        "print(aluno1)\n",
        "print(aluno2)\n",
        "print(aluno3)\n",
        "print(lista)"
      ],
      "metadata": {
        "id": "B23-8qQxtEzR"
      },
      "execution_count": null,
      "outputs": []
    },
    {
      "cell_type": "code",
      "source": [
        "pessoas = []\n",
        "\n",
        "c = 0\n",
        "\n",
        "while c < 1:\n",
        "  pessoa = {}\n",
        "  pessoa['cpf'] = input(\"Digite o CPF: \")\n",
        "  pessoa['nome'] = input(\"Digite o nome: \")\n",
        "  pessoa['idade'] = input(\"Digite a idade: \")\n",
        "  pessoa['telefone'] = input(\"Digite o telefone: \")\n",
        "\n",
        "  pessoas.append(pessoa)\n",
        "\n",
        "  c = c + 1\n",
        "print()\n",
        "for pessoa in pessoas:\n",
        "  print(\"CPF:\",pessoa['cpf'])\n",
        "  print(\"Nome:\",pessoa['nome'])\n",
        "  print(\"Idade:\",pessoa['idade'])\n",
        "  print(\"Telefone:\",pessoa['telefone'])"
      ],
      "metadata": {
        "id": "MsXNaifXv9Wo"
      },
      "execution_count": null,
      "outputs": []
    },
    {
      "cell_type": "code",
      "source": [
        "dic = {}\n",
        "palavra = input(\"Digite a palavra: \")\n",
        "\n",
        "for l in palavra:\n",
        " if l not in dic:\n",
        "  dic[l] = 1\n",
        " else:\n",
        "  dic[l] = dic[l] + 1\n",
        "\n",
        "print(dic)"
      ],
      "metadata": {
        "id": "VbqBlClb8cJy"
      },
      "execution_count": null,
      "outputs": []
    },
    {
      "cell_type": "code",
      "source": [
        "lista = []\n",
        "\n",
        "\n",
        "c = 0\n",
        "\n",
        "while c < 3:\n",
        "  pessoa = {\"nome\":\"sobrenome\":\"\",\"rg\":\"\",\"idade\",-1}\n",
        "  pessoa[\"nome\"] = input(\"Digite o nome: \")\n",
        "  pessoa[\"sobrenome\"] = input(\"Digite o sobrenome: \")\n",
        "  pessoa[\"rg\"] = input(\"Digite o RG: \")\n",
        "  pessoa[\"idade\"] = int(input(\"Digite a idade: \"))\n",
        "  lista.append[pessoa]\n",
        "\n",
        "  c = c + 1\n",
        "\n",
        "for pessoa in lista:\n",
        "  print(\"Nome: \",pessoa[\"nome\"])\n",
        "  print(\"Sobrenome: \",pessoa[\"sobrenome\"])\n",
        "  print(\"RG: \",pessoa[\"rg\"])\n",
        "  print(\"Idade: \",pessoa[\"idade\"])\n",
        "\n"
      ],
      "metadata": {
        "id": "M6yFmgvpS7y7"
      },
      "execution_count": null,
      "outputs": []
    },
    {
      "cell_type": "code",
      "source": [
        "#estoque\n",
        "opcao = ''\n",
        "lista_prod = []\n",
        "while opcao != 0:\n",
        "  #menu de opcoes\n",
        "  print(\"Menu de opcoes:\")\n",
        "  print(\"1 - Adicionar produto\")\n",
        "  print(\"2 - Remover produto\")\n",
        "  print(\"3 - Exibir estoque \")\n",
        "  print(\"0 - Sair\")\n",
        "  opcao = int(input(\"Digite a opcao desejada: \"))\n",
        "  #verificao de erro\n",
        "  if opcao > 3 or opcao < 0:\n",
        "    print()\n",
        "    print(\"--------------\")\n",
        "    print(\"Opcao invalida\")\n",
        "    print(\"--------------\")\n",
        "    print()\n",
        "  #finalizador\n",
        "  elif opcao == 0:\n",
        "    print()\n",
        "    print(\"***Programa finalizado***\")\n",
        "  #adiciona produto\n",
        "  elif opcao == 1:\n",
        "    produtos = {\"nome\":\"\",\"quantidade\":\"\"}\n",
        "    produtos[\"nome\"] = input(\"Cadastre o nome do produto: \")\n",
        "    produtos[\"quantidade\"] = float(input(\"Digite a quantidade: \"))\n",
        "\n",
        "    lista_prod.append(produtos)\n",
        "  #exclui produto\n",
        "  elif opcao == 2:\n",
        "    del(produtos)\n",
        "  #mostra os produtos\n",
        "  elif opcao == 3:\n",
        "    for produtos in lista_prod:\n",
        "       print(\"Produto: \",produtos[\"nome\"])\n",
        "       print(\"Quantidade: \",produtos[\"quantidade\"])\n"
      ],
      "metadata": {
        "id": "BXQrYZ96YU2i"
      },
      "execution_count": null,
      "outputs": []
    },
    {
      "cell_type": "code",
      "source": [
        "opcao = ''\n",
        "estoque = []\n",
        "while opcao != 4 or opcao < 1 or opcao > 4:\n",
        "\n",
        "  print(\"Menu de opcoes:\")\n",
        "  print(\"1 - Adicionar produto\")\n",
        "  print(\"2 - Remover produto\")\n",
        "  print(\"3 - Exibir estoque \")\n",
        "  print(\"4 - Sair\")\n",
        "  opcao = int(input(\"Digite a opcao desejada: \"))\n",
        "\n",
        "  if opcao ==1:\n",
        "    produto = input(\"Nome do produto\")\n",
        "    quantidade = int(input(\"Quantidade no estoque: \"))\n",
        "    estoque[produto] = quantidade\n",
        "\n",
        "  elif opcao == 2:\n",
        "    for produto, quantidade in estoque.items():\n",
        "      quantidade = input(produto,\":\",quantidade)\n",
        "\n",
        "      produto = input(\"Nome do produto a remover: \")\n",
        "      quantidade = input(\"Quantidade a remover\")\n",
        "\n",
        "      estoque[produto] = estoque[produto] - quantidade\n",
        "      if estoque[produto] < 1:\n",
        "        del(estoque[produto])\n",
        "  elif opcao == 3:\n",
        "    print(\"Relatorio\")\n",
        "    for produto, quantidade in estoque.items():\n",
        "      print(produto,\":\",quantidade)\n",
        "  elif opcao == 4:\n",
        "    print(\"Saindo do sistema\")"
      ],
      "metadata": {
        "id": "TGPR68URbw5a"
      },
      "execution_count": null,
      "outputs": []
    },
    {
      "cell_type": "code",
      "source": [
        "#lista de dicionarios\n",
        "\n",
        "lista10 = []\n",
        "lista.append({\"nome\":\"Vitor\"})\n",
        "\n",
        "print(lista10[0][\"nome\"])\n",
        "\n",
        "\n"
      ],
      "metadata": {
        "colab": {
          "base_uri": "https://localhost:8080/"
        },
        "id": "GXLslPwpUP-k",
        "outputId": "caa12313-a40c-43f8-beee-0c7099295aa4"
      },
      "execution_count": null,
      "outputs": [
        {
          "output_type": "stream",
          "name": "stdout",
          "text": [
            "Vitor\n"
          ]
        }
      ]
    },
    {
      "cell_type": "code",
      "source": [
        "c = 0\n",
        "\n",
        "while c < 2:\n",
        "  nome = input(\"Digite o seu nome: \")\n",
        "  lista.append({\"nome\":nome})\n",
        "  c = c + 1\n",
        "\n",
        "for codigo,item in enumerate(lista10):\n",
        "  print(codigo,'-',item['nome'])\n"
      ],
      "metadata": {
        "id": "F_N013D6XiBc"
      },
      "execution_count": null,
      "outputs": []
    },
    {
      "cell_type": "code",
      "source": [
        "# CRUD COM REPETICAO\n",
        "\n",
        "print(\"Cadastro de mapas Counter Strike\")\n",
        "lista = []\n",
        "op = ''\n",
        "\n",
        "while op != 0:\n",
        "\n",
        "  print()\n",
        "  print(\"Lista de mapas competitivos\")\n",
        "# listagem\n",
        "  c = 0\n",
        "  while c < len(lista):\n",
        "    print(c,\" \",lista[c])\n",
        "    c = c + 1\n",
        "\n",
        "  print()\n",
        "  print(\"*******************\")\n",
        "  print(\"1 - cadastro\")\n",
        "  print(\"2 - atualizacao\")\n",
        "  print(\"3 - deletar\")\n",
        "  print(\"0 - sair\")\n",
        "  print(\"*******************\")\n",
        "\n",
        "\n",
        "  op = int(input(\"Digite a opcao: \"))\n",
        "  if op == 1:\n",
        "    mapa = input(\"Digite o mapa: \")\n",
        "    lista.append(mapa)\n",
        "  elif op == 2:\n",
        "    codigo = int (input(\"Digite o codigo do mapa: \"))\n",
        "    lista[codigo] = input(\"Trocar map_pool competitivo: \")\n",
        "  elif op == 3:\n",
        "    codigo = int (input(\"Digite o codigo do mapa\"))\n",
        "    lista[codigo]\n",
        "    print(lista.pop(lista[codigo],\" - Excluido com sucesso\"))\n"
      ],
      "metadata": {
        "id": "ZI8xj7n_anVc"
      },
      "execution_count": null,
      "outputs": []
    },
    {
      "cell_type": "code",
      "source": [
        "# CRUD dicionario\n",
        "\n",
        "print(\"Cadastro mapas Counter Strike\")\n",
        "\n",
        "lista0 = []\n",
        "di_mapas = {\"nome_mapa\":\"\",\"jogador\":\"\"}\n",
        "op = ''\n",
        "ind = ''\n",
        "while op != 0:\n",
        "\n",
        "  print()\n",
        "  print(\"*******************\")\n",
        "  print(\"1 - cadastro\")\n",
        "  print(\"2 - atualizacao\")\n",
        "  print(\"3 - deletar\")\n",
        "  print(\"0 - sair\")\n",
        "  print(\"*******************\")\n",
        "\n",
        "  op = int(input(\"Digite a opcao: \"))\n",
        "  if op == 1:\n",
        "    mapa = input(\"Digite o mapa: \")\n",
        "    time = input(\"Digite o time: \")\n",
        "\n",
        "    di_mapas[\"jogador\"] = time\n",
        "    di_mapas[\"nome_mapa\"] = mapa\n",
        "    lista0.append(di_mapas)\n",
        "\n",
        "\n",
        "  elif op == 2:\n",
        "    print()\n",
        "    print(lista0)\n",
        "    print()\n",
        "    ind = int(input(\"Digite a posicao: \"))\n",
        "    mapa = input(\"Digite o novo mapa: \")\n",
        "    lista0[ind][\"nome_mapa\"] = mapa\n",
        "\n",
        "for mapa in lista0:\n",
        "  print(lista0)\n",
        "\n"
      ],
      "metadata": {
        "id": "eJqF8DqSaxST"
      },
      "execution_count": null,
      "outputs": []
    },
    {
      "cell_type": "code",
      "source": [
        "print(\"cadastro alunos\")\n",
        "lista = []\n",
        "op = ''\n",
        "\n",
        "while op != 0:\n",
        "  print(\"1 - cadastro\")\n",
        "  print(\"2 - atualizacao\")\n",
        "  print(\"3 - deletar\")\n",
        "  print(\"0 - sair\")\n",
        "\n",
        "  op = int(input(\"Digite a opcao: \"))\n",
        "\n",
        "  if op == 1:\n",
        "    nome = input(\"Digite o nome: \")\n",
        "    idade = int(input(\"Digite a idade: \"))\n",
        "    cpf = input(\"Digite o cpf\")\n",
        "    di = {\"nome\":nome,\"idade\":idade,\"cpf\":cpf}\n",
        "\n",
        "  elif op == 2:\n",
        "    codigo = int(input(\"Digite o codigo: \"))\n",
        "    lista[codigo]['nome'] = input(\"Digite o novo nome: \")\n",
        "    lista[codigo]['idade'] = int(input(\"Digite a nova idade: \"))\n",
        "    lista[codigo]['cpf'] = input(\"Digite o novo cpf: \")\n",
        "  elif op == 3:\n",
        "    codigo = int(input(\"Digite o codigo para alterar\"))\n",
        "    print(lista.pop(codigo)['nome'],\"removido com sucesso\")\n",
        "\n",
        "  elif op == 4:\n",
        "    for item in lista:\n",
        "      print(\"codigo\",codigo)\n",
        "      print(\"nome\",item['nome'])\n",
        "      print(\"idade\",item['idade'])\n",
        "      print(\"cpf\",item['cpf'])\n",
        "      print()"
      ],
      "metadata": {
        "id": "5FYVSgBhwQud"
      },
      "execution_count": null,
      "outputs": []
    },
    {
      "cell_type": "code",
      "source": [
        "def inpput():\n",
        "  return input(\"Digite um informação\")\n",
        "\n",
        "def retunNumber():\n",
        "  return 10\n",
        "\n",
        "def teste():\n",
        "  print(\"teste\")\n",
        "\n",
        "retunNumber()\n"
      ],
      "metadata": {
        "id": "wV_-wtK77xyu"
      },
      "execution_count": null,
      "outputs": []
    },
    {
      "cell_type": "code",
      "source": [
        "# parametros\n",
        "\n",
        "def soma(num1,num2):\n",
        "  res = num1 + num2\n",
        "  print(res)\n",
        "\n",
        "soma(10,10)\n",
        "soma(20,10)\n",
        "soma(30,10)\n"
      ],
      "metadata": {
        "id": "3DvQiEj3-eJH"
      },
      "execution_count": null,
      "outputs": []
    },
    {
      "cell_type": "code",
      "source": [
        "def soma(num1,num2):\n",
        "  res = num1 + num2\n",
        "  print(res)\n",
        "\n",
        "def soma1(num1,num2):\n",
        "  res1 = num1 + num2\n",
        "  return res1\n",
        "\n",
        "soma(10,10)\n",
        "soma(20,10)\n",
        "soma(30,10)\n",
        "\n",
        "res1 = soma1\n",
        "print(soma1)\n",
        "res = soma\n",
        "print(soma)"
      ],
      "metadata": {
        "colab": {
          "base_uri": "https://localhost:8080/"
        },
        "id": "KpYl-zGdVJOP",
        "outputId": "62b226e4-8976-4dae-fede-d190b112c8d0"
      },
      "execution_count": null,
      "outputs": [
        {
          "output_type": "stream",
          "name": "stdout",
          "text": [
            "20\n",
            "30\n",
            "40\n",
            "<function soma1 at 0x7bd895cbaa20>\n",
            "<function soma at 0x7bd895cbaac0>\n"
          ]
        }
      ]
    },
    {
      "cell_type": "code",
      "source": [
        "def soma_(num1,num2):\n",
        "  soma = num1 + num2\n",
        "  print(\"**************\")\n",
        "  print()\n",
        "  print(\"Resultado: \",soma)\n",
        "  print()\n",
        "  print(\"**************\")\n",
        "\n",
        "def div_(num1,num2):\n",
        "  div = num1 / num2\n",
        "  print(\"**************\")\n",
        "  print()\n",
        "  print(\"Resultado: \",div)\n",
        "  print()\n",
        "  print(\"**************\")\n",
        "\n",
        "\n",
        "def mult_(num1,num2):\n",
        "  mult = num1 * num2\n",
        "  print(\"**************\")\n",
        "  print()\n",
        "  print(\"Resultado: \",mult)\n",
        "  print()\n",
        "  print(\"**************\")\n",
        "\n",
        "def sub_(num1,num2):\n",
        "  sub = num1 - num2\n",
        "\n",
        "  print(\"**************\")\n",
        "  print()\n",
        "  print(\"Resultado: \",sub)\n",
        "  print()\n",
        "  print(\"**************\")\n",
        "\n",
        "op = ''\n",
        "\n",
        "while op != 0:\n",
        "  print(\"1 - Soma\")\n",
        "  print(\"2 - divisao\")\n",
        "  print(\"3 - multiplicacao\")\n",
        "  print(\"4 - subtracao\")\n",
        "  print(\"0 - FINALIZAR\")\n",
        "  op = int(input(\"Digite a operação que deseja realizar: \"))\n",
        "\n",
        "  if op == 1:\n",
        "    print()\n",
        "    num1 = float(input(\"Digite o primeiro numero: \"))\n",
        "    num2 = float(input(\"Digite o segundo numero: \"))\n",
        "    soma_(num1,num2)\n",
        "\n",
        "\n",
        "  elif op == 2:\n",
        "      num1 = float(input(\"Digite o primeiro numero: \"))\n",
        "      num2 = float(input(\"Digite o divisor: \"))\n",
        "      div_(num1,num2)\n",
        "\n",
        "\n",
        "  elif op == 3:\n",
        "    print()\n",
        "    num1 = float(input(\"Digite o primeiro numero: \"))\n",
        "    num2 = float(input(\"Digite o segundo numero: \"))\n",
        "    mult_(num1,num2)\n",
        "\n",
        "  elif op == 4:\n",
        "    print()\n",
        "    num1 = float(input(\"Digite o primeiro numero: \"))\n",
        "    num2 = float(input(\"Digite o segundo numero: \"))\n",
        "    sub_(num1,num2)\n",
        "    op = int(input(\"Digite a opeação que deseja realizar: \"))\n",
        "\n",
        "  elif op == 0:\n",
        "    print(\"Finalizado\")\n",
        "\n",
        "  elif op > 4 or op < 0:\n",
        "    print()\n",
        "    print(\"**Opcao invalida digite novamente**\")\n",
        "    print()\n",
        "\n",
        "\n"
      ],
      "metadata": {
        "id": "d6gP3GwAbsou"
      },
      "execution_count": null,
      "outputs": []
    },
    {
      "cell_type": "code",
      "source": [
        "!python calc.py\n",
        "# as o apelidos para operacoes\n",
        "# import operacoes as o"
      ],
      "metadata": {
        "colab": {
          "base_uri": "https://localhost:8080/"
        },
        "collapsed": true,
        "id": "E8Oupw2Pf_h1",
        "outputId": "1713c9e1-71fa-4877-81b5-1ab0c0d4f62a"
      },
      "execution_count": null,
      "outputs": [
        {
          "output_type": "stream",
          "name": "stdout",
          "text": [
            "1 - Soma\n",
            "2 - divisao\n",
            "3 - multiplicacao\n",
            "4 - subtracao\n",
            "0 - FINALIZAR\n",
            "Digite a operação que deseja realizar: 1\n",
            "\n",
            "Digite o primeiro numero: 10\n",
            "Digite o segundo numero: 10\n",
            "**************\n",
            "\n",
            "Resultado:  20.0\n",
            "\n",
            "**************\n",
            "1 - Soma\n",
            "2 - divisao\n",
            "3 - multiplicacao\n",
            "4 - subtracao\n",
            "0 - FINALIZAR\n",
            "Digite a operação que deseja realizar: 2\n",
            "Digite o primeiro numero: 10\n",
            "Digite o divisor: 2\n",
            "**************\n",
            "\n",
            "Resultado:  5.0\n",
            "\n",
            "**************\n",
            "1 - Soma\n",
            "2 - divisao\n",
            "3 - multiplicacao\n",
            "4 - subtracao\n",
            "0 - FINALIZAR\n",
            "Digite a operação que deseja realizar: 3\n",
            "\n",
            "Digite o primeiro numero: 8\n",
            "Digite o segundo numero: 8\n",
            "**************\n",
            "\n",
            "Resultado:  64.0\n",
            "\n",
            "**************\n",
            "1 - Soma\n",
            "2 - divisao\n",
            "3 - multiplicacao\n",
            "4 - subtracao\n",
            "0 - FINALIZAR\n",
            "Digite a operação que deseja realizar: 4\n",
            "\n",
            "Digite o primeiro numero: 2\n",
            "Digite o segundo numero: 2\n",
            "**************\n",
            "\n",
            "Resultado:  0.0\n",
            "\n",
            "**************\n",
            "Digite a opeação que deseja realizar: 0\n"
          ]
        }
      ]
    }
  ]
}