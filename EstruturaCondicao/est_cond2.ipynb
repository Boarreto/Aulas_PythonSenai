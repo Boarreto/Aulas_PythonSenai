{
  "nbformat": 4,
  "nbformat_minor": 0,
  "metadata": {
    "colab": {
      "provenance": []
    },
    "kernelspec": {
      "name": "python3",
      "display_name": "Python 3"
    },
    "language_info": {
      "name": "python"
    }
  },
  "cells": [
    {
      "cell_type": "code",
      "execution_count": null,
      "metadata": {
        "colab": {
          "base_uri": "https://localhost:8080/"
        },
        "id": "iGIuugNTylxY",
        "outputId": "95ab792d-5102-4211-da09-992678854cc0"
      },
      "outputs": [
        {
          "output_type": "stream",
          "name": "stdout",
          "text": [
            "Digite a sua idade para ser se precisara votar: 70\n",
            "\n",
            "Nao e obrigatorio a votacao\n"
          ]
        }
      ],
      "source": [
        "idade = int(input(\"Digite a sua idade para ser se precisara votar: \"))\n",
        "\n",
        "if (idade >= 18 and idade <= 65):\n",
        "  print()\n",
        "  print(\"Nao e obrigatorio a votacao\")\n",
        "\n",
        "elif idade == 16:\n",
        "  print()\n",
        "  print(\"Sua votacao e opcional\")\n",
        "\n",
        "else:\n",
        "  print()\n",
        "  print(\"e obrigatorio a votacao\")"
      ]
    },
    {
      "cell_type": "code",
      "source": [
        "nota = int(input(\"Digite a nota do aluno: \"))\n",
        "presenca = int(input(\"Digite a presenca do aluno: \"))\n",
        "\n",
        "if (nota < 50 or presenca < 75):\n",
        "  print(\"Aluno reprovado\")\n",
        "else:\n",
        "  print(\"Aluno aprovado \")"
      ],
      "metadata": {
        "colab": {
          "base_uri": "https://localhost:8080/"
        },
        "id": "0O61sN0P1-G7",
        "outputId": "29f2632f-8261-4053-b0b8-ce8fa7d61bce"
      },
      "execution_count": null,
      "outputs": [
        {
          "output_type": "stream",
          "name": "stdout",
          "text": [
            "Digite a nota do aluno: 55\n",
            "Digite a presenca do aluno: 80\n",
            "Aluno aprovado\n"
          ]
        }
      ]
    },
    {
      "cell_type": "code",
      "source": [
        "curso = input(\"Digite seu curso: \")\n",
        "ano = int(input(\"Digte o ano de inicio: \"))\n",
        "dia = input(\"Digite o dia que faz aula: \")\n",
        "\n",
        "if (curso == \"python\" and ano == 2025 and dia == \"sabado\"):\n",
        "  print()\n",
        "  print(\"Bem vindo!!!\")\n",
        "\n",
        "else:\n",
        "  print()\n",
        "  print(\"Sala errada\")"
      ],
      "metadata": {
        "colab": {
          "base_uri": "https://localhost:8080/"
        },
        "id": "roiXAxqp4-0T",
        "outputId": "66703a8e-71eb-4479-c3b4-df9006d4c690"
      },
      "execution_count": null,
      "outputs": [
        {
          "output_type": "stream",
          "name": "stdout",
          "text": [
            "Digite seu curso: 6515\n",
            "Digte o ano de inicio: 6516\n",
            "Digite o dia que faz aula: 516\n",
            "\n",
            "Sala errada\n"
          ]
        }
      ]
    },
    {
      "cell_type": "code",
      "source": [
        "print(\"1. Idoso\")\n",
        "print(\"2. Gestante\")\n",
        "print(\"3. Cadeirante\")\n",
        "print(\"4. Outros\")\n",
        "\n",
        "resposta = int(input(\"Digite uma opcao: \"))\n",
        "\n",
        "if (resposta == 1 or resposta == 2 or resposta == 3):\n",
        "  print()\n",
        "  print(\"Voce tem direito a fila prioritaria\")\n",
        "elif resposta > 4:\n",
        "  print()\n",
        "  print(\"Digite uma opcao valida\")\n",
        "else:\n",
        "  print()\n",
        "  print(\"Voce nao tem direito\")"
      ],
      "metadata": {
        "colab": {
          "base_uri": "https://localhost:8080/"
        },
        "id": "P0VihhDA9WpM",
        "outputId": "085e6b66-d1dc-46b5-d7c5-c5badccadedf"
      },
      "execution_count": null,
      "outputs": [
        {
          "output_type": "stream",
          "name": "stdout",
          "text": [
            "1. Idoso\n",
            "2. Gestante\n",
            "3. Cadeirante\n",
            "4. Outros\n",
            "Digite uma opcao: 4\n",
            "Voce nao tem direito\n"
          ]
        }
      ]
    },
    {
      "cell_type": "code",
      "source": [
        "num1 = int(input(\"Digite o primeiro numero: \"))\n",
        "num2 = int(input(\"Digite o segundo numero: \"))\n",
        "num3 = int(input(\"Digite o terceiro numero: \"))\n",
        "\n",
        "numeros = [num1, num2, num3]\n",
        "\n",
        "numeros.sort()\n",
        "\n",
        "print(numeros)\n"
      ],
      "metadata": {
        "colab": {
          "base_uri": "https://localhost:8080/"
        },
        "id": "FVEmug0qNeS2",
        "outputId": "d3316edf-518a-46a6-a98f-ab8b02449278"
      },
      "execution_count": null,
      "outputs": [
        {
          "output_type": "stream",
          "name": "stdout",
          "text": [
            "Digite o primeiro numero: 500\n",
            "Digite o segundo numero: 120\n",
            "Digite o terceiro numero: 50\n",
            "[50, 120, 500]\n"
          ]
        }
      ]
    },
    {
      "cell_type": "code",
      "source": [
        "num1 = int(input(\"Digite o primeiro numero: \"))\n",
        "num2 = int(input(\"Digite o segundo numero: \"))\n",
        "num3 = int(input(\"Digite o terceiro numero: \"))\n",
        "\n",
        "if(num1 < num2 and num1 < num3 and num2 < num3):\n",
        "  print(num1,num2,num3)\n",
        "\n",
        "elif(num1 < num2 and num1 < num3 and num3 < num2):\n",
        "  print(num1,num3,num2)\n",
        "\n",
        "elif(num2 < num1 and num2 < num3 and num1 < num3):\n",
        "  print(num2,num1,num3)\n",
        "\n",
        "elif(num2 < num1 and num2 < num3 and num3 < num1):\n",
        "  print(num2,num3,num1)\n",
        "\n",
        "elif(num3 < num1 and num3 < num2 and num2 < num1):\n",
        "  print(num3,num2,num1)\n",
        "\n",
        "elif(num3 < num1 and num3 < num2 and num1 < num2):\n",
        "  print(num3,num1,num2)"
      ],
      "metadata": {
        "colab": {
          "base_uri": "https://localhost:8080/"
        },
        "id": "C6k2GHJAQb4f",
        "outputId": "2083ccdf-935d-486b-abae-cb0770ef6811"
      },
      "execution_count": null,
      "outputs": [
        {
          "output_type": "stream",
          "name": "stdout",
          "text": [
            "Digite o primeiro numero: 120\n",
            "Digite o segundo numero: 100\n",
            "Digite o terceiro numero: 22\n",
            "22 100 120\n"
          ]
        }
      ]
    },
    {
      "cell_type": "code",
      "source": [
        "dia = int(input(\"Digite um numero da semana 1~7: \"))\n",
        "\n",
        "if dia > 7 or dia < 1:\n",
        "  print(\"Digite um dia valido\")\n",
        "\n",
        "elif dia == 1:\n",
        "  print(\"Domingo\")\n",
        "elif dia == 2:\n",
        "  print(\"Segunda\")\n",
        "elif dia == 3:\n",
        "  print(\"Terca\")\n",
        "elif dia == 4:\n",
        "  print(\"Quarta\")\n",
        "elif dia == 5:\n",
        "  print(\"Quinta\")\n",
        "elif dia == 6:\n",
        "  print(\"Sexta\")\n",
        "elif dia == 7:\n",
        "  print(\"Sabado\")\n"
      ],
      "metadata": {
        "colab": {
          "base_uri": "https://localhost:8080/"
        },
        "id": "7gzYh0IvbqBZ",
        "outputId": "309b4d83-656d-44ab-e2c0-18087c00f4ca"
      },
      "execution_count": null,
      "outputs": [
        {
          "output_type": "stream",
          "name": "stdout",
          "text": [
            "Digite um numero da semana 1~7: 0\n",
            "Digite um dia valido\n"
          ]
        }
      ]
    },
    {
      "cell_type": "code",
      "source": [
        "numero = int(input(\"Digite um numero da semana 1~7: \"))\n",
        "\n",
        "match numero:\n",
        "  case 1:\n",
        "    print(\"Domingo\")\n",
        "  case 2:\n",
        "    print(\"Segunda\")\n",
        "  case 3:\n",
        "    print(\"Terca\")\n",
        "  case 4:\n",
        "    print(\"Quarta\")\n",
        "  case 5:\n",
        "    print(\"Quinta\")\n",
        "  case 6:\n",
        "    print(\"Sexta\")\n",
        "  case 7:\n",
        "    print(\"Sabado\")\n",
        "  case _:\n",
        "    print(\"Numero invalido\")"
      ],
      "metadata": {
        "colab": {
          "base_uri": "https://localhost:8080/"
        },
        "id": "Ed55KZRYgFXb",
        "outputId": "797f3234-b4dd-4476-e065-11bbcd592b12"
      },
      "execution_count": null,
      "outputs": [
        {
          "output_type": "stream",
          "name": "stdout",
          "text": [
            "Digite um numero da semana 1~7: 6\n",
            "Sexta\n"
          ]
        }
      ]
    }
  ]
}