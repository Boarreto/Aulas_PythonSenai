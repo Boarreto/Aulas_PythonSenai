{
  "nbformat": 4,
  "nbformat_minor": 0,
  "metadata": {
    "colab": {
      "provenance": []
    },
    "kernelspec": {
      "name": "python3",
      "display_name": "Python 3"
    },
    "language_info": {
      "name": "python"
    }
  },
  "cells": [
    {
      "cell_type": "code",
      "execution_count": null,
      "metadata": {
        "id": "oJW_eNJ-FJQr",
        "colab": {
          "base_uri": "https://localhost:8080/"
        },
        "outputId": "2abac746-827a-4b68-d953-4681095a7c76"
      },
      "outputs": [
        {
          "output_type": "stream",
          "name": "stdout",
          "text": [
            "Digite a sua idade: 2\n",
            "\n",
            "Esta e a quandtidade de batimentos 63072000\n"
          ]
        }
      ],
      "source": [
        "idade = int(input(\"Digite a sua idade: \"))\n",
        "\n",
        "batimentos = (86400 * 365)* idade\n",
        "print()\n",
        "print(\"Esta e a quantidade de batimentos\",batimentos)\n",
        "\n"
      ]
    }
  ]
}