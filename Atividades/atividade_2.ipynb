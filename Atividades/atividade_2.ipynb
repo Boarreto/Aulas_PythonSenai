{
  "nbformat": 4,
  "nbformat_minor": 0,
  "metadata": {
    "colab": {
      "provenance": []
    },
    "kernelspec": {
      "name": "python3",
      "display_name": "Python 3"
    },
    "language_info": {
      "name": "python"
    }
  },
  "cells": [
    {
      "cell_type": "code",
      "execution_count": null,
      "metadata": {
        "colab": {
          "base_uri": "https://localhost:8080/"
        },
        "id": "DFFz3_9nKZkr",
        "outputId": "b2c6782f-af97-46e0-e3e5-99f5ab501363"
      },
      "outputs": [
        {
          "output_type": "stream",
          "name": "stdout",
          "text": [
            "Digite o peso da pessoa 1: 80.50\n",
            "Digite o peso da pessoa 2: 70.70\n",
            "Digite o peso da pessoa 3: 60.60\n",
            "\n",
            "Digite o nome da pessoa 1: Vitor\n",
            "Digite o nome da pessoa 2: Alberto\n",
            "Digite o nome da pessoa 3: Boarreto\n",
            "\n",
            "Digite a idade da pessoa 1: 20\n",
            "Digite a idade da pessoa 2: 23\n",
            "Digite a idade da pessoa 3: 30\n",
            "\n",
            "O nome, idade e peso da pessoa 1 sao:  Vitor / 20 / 80.5\n",
            "\n",
            "O nome, idade e peso da pessoa 2 sao:  Alberto / 23 / 70.7\n",
            "\n",
            "O nome, idade e peso da pessoa 3 sao:  Boarreto / 30 / 60.6\n",
            "\n",
            "A media aritmetica do peso das 3 pessoas e:  70.6\n"
          ]
        }
      ],
      "source": [
        "nome1 = (input(\"Digite o nome da pessoa 1: \"))\n",
        "nome2 = (input(\"Digite o nome da pessoa 2: \"))\n",
        "nome3 = (input(\"Digite o nome da pessoa 3: \"))\n",
        "print()\n",
        "idade1 = int(input(\"Digite a idade da pessoa 1: \"))\n",
        "idade2 = int(input(\"Digite a idade da pessoa 2: \"))\n",
        "idade3 = int(input(\"Digite a idade da pessoa 3: \"))\n",
        "print()\n",
        "peso1 = float(input(\"Digite o peso da pessoa 1: \"))\n",
        "peso2 = float(input(\"Digite o peso da pessoa 2: \"))\n",
        "peso3 = float(input(\"Digite o peso da pessoa 3: \"))\n",
        "\n",
        "print()\n",
        "print(\"O nome, idade e peso da pessoa 1 sao: \",nome1,\"/\",idade1,\"/\",peso1)\n",
        "print()\n",
        "print(\"O nome, idade e peso da pessoa 2 sao: \",nome2,\"/\",idade2,\"/\",peso2)\n",
        "print()\n",
        "print(\"O nome, idade e peso da pessoa 3 sao: \",nome3,\"/\",idade3,\"/\",peso3)\n",
        "print()\n",
        "\n",
        "media_peso = (peso1 + peso2 + peso3)/3\n",
        "peso_arredondado = round(media_peso,2)\n",
        "\n",
        "print(\"A media aritmetica do peso das 3 pessoas e: \",peso_arredondado)"
      ]
    }
  ]
}