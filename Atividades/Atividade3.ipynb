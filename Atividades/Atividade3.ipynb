{
  "nbformat": 4,
  "nbformat_minor": 0,
  "metadata": {
    "colab": {
      "provenance": []
    },
    "kernelspec": {
      "name": "python3",
      "display_name": "Python 3"
    },
    "language_info": {
      "name": "python"
    }
  },
  "cells": [
    {
      "cell_type": "code",
      "execution_count": null,
      "metadata": {
        "colab": {
          "base_uri": "https://localhost:8080/"
        },
        "id": "xvJkij4wRX0o",
        "outputId": "a31476ac-1130-4a93-df07-ec96d47d3267"
      },
      "outputs": [
        {
          "output_type": "stream",
          "name": "stdout",
          "text": [
            "Digite a identificacao do vendedor: 451\n",
            "\n",
            "Digite o salario fixo do vendedor:2850\n",
            "\n",
            "Digite o total de vendas efetuadas pelo vendedor: 15450\n",
            "\n",
            "Digite o percentual de comissado do vendedor:10\n",
            "\n",
            "O vendedor 451 Com salario fixo de 2850.0\n",
            "\n",
            "Teve um total de comissao 1545.0\n",
            "\n",
            "Totalizando seu salario final: 4395.0\n"
          ]
        }
      ],
      "source": [
        "identificacao = int(input(\"Digite a identificacao do vendedor: \"))\n",
        "print()\n",
        "salario = float(input(\"Digite o salario fixo do vendedor:\"))\n",
        "print()\n",
        "vendas = float(input(\"Digite o total de vendas efetuadas pelo vendedor: \"))\n",
        "print()\n",
        "percentual = float(input(\"Digite o percentual de comissado do vendedor:\"))\n",
        "print()\n",
        "\n",
        "percentual_vend = percentual / 100\n",
        "\n",
        "comissao = vendas * percentual_vend\n",
        "salario_total = salario + comissao\n",
        "\n",
        "print(\"O vendedor\",identificacao,\"Com salario fixo de\",salario)\n",
        "print()\n",
        "print(\"Teve um total de comissao\",comissao)\n",
        "print()\n",
        "print(\"Totalizando seu salario final:\",salario_total)\n",
        "\n",
        "\n",
        "\n"
      ]
    }
  ]
}