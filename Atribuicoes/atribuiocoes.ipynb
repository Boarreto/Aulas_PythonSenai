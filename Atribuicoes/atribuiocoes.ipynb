{
  "nbformat": 4,
  "nbformat_minor": 0,
  "metadata": {
    "colab": {
      "provenance": []
    },
    "kernelspec": {
      "name": "python3",
      "display_name": "Python 3"
    },
    "language_info": {
      "name": "python"
    }
  },
  "cells": [
    {
      "cell_type": "code",
      "execution_count": null,
      "metadata": {
        "colab": {
          "base_uri": "https://localhost:8080/"
        },
        "id": "BrDKNLZzzshd",
        "outputId": "7c9ec6c5-278b-4234-bddb-685373bd1e7d"
      },
      "outputs": [
        {
          "output_type": "stream",
          "name": "stdout",
          "text": [
            "Digite seu nome: Vitor\n",
            "Seu nome e:  Vitor\n"
          ]
        }
      ],
      "source": [
        "!python teste.py"
      ]
    },
    {
      "cell_type": "code",
      "source": [
        "#Atribuindo valores usando condicoes\n",
        "\n",
        "numero = int(input(\"Digite um numero: \"))\n",
        "\n",
        "if(numero < 10):\n",
        "  mensagem = \"Menor que 10\"\n",
        "else:\n",
        "  mensagem = \"Nao e menor que 10\"\n",
        "\n",
        "print(mensagem)"
      ],
      "metadata": {
        "colab": {
          "base_uri": "https://localhost:8080/"
        },
        "id": "t5wEYoaE3jmJ",
        "outputId": "0871a108-850a-480a-e1a2-fe6cc38a96b9"
      },
      "execution_count": null,
      "outputs": [
        {
          "output_type": "stream",
          "name": "stdout",
          "text": [
            "Digite um numero: 9\n",
            "Menor que 10\n"
          ]
        }
      ]
    },
    {
      "cell_type": "code",
      "source": [
        "# Atribuicao condicional\n",
        "\n",
        "numero = int(input(\"Digite um numero: \"))\n",
        "\n",
        "mensagem = \"Menor que 10\" if(numero < 10) else \"Nao e menor que 10\"\n",
        "\n",
        "print(mensagem)"
      ],
      "metadata": {
        "colab": {
          "base_uri": "https://localhost:8080/"
        },
        "id": "EOGOTLJu5Sfh",
        "outputId": "49d284b7-42b7-4d64-9c62-3fe544d8199b"
      },
      "execution_count": null,
      "outputs": [
        {
          "output_type": "stream",
          "name": "stdout",
          "text": [
            "Digite um numero: 9\n",
            "Menor que 10\n"
          ]
        }
      ]
    },
    {
      "cell_type": "code",
      "source": [
        "venda = float(input(\"Digite o valor da venda: \"))\n",
        "\n",
        "if(venda > 1000):\n",
        "  desconto = venda * 0.10\n",
        "else:\n",
        "  desconto = 0\n",
        "\n",
        "venda_final = venda - desconto\n",
        "print(\"Venda: \",venda)\n",
        "print(\"Desconto:\",round(desconto,2))\n",
        "print(\"Venda final: \",venda_final)"
      ],
      "metadata": {
        "colab": {
          "base_uri": "https://localhost:8080/"
        },
        "id": "ETLoZ61U7ep5",
        "outputId": "89790408-090d-467c-8e39-5e9ebe4dbc6c"
      },
      "execution_count": null,
      "outputs": [
        {
          "output_type": "stream",
          "name": "stdout",
          "text": [
            "Digite o valor da venda: 14568\n",
            "Venda:  14568.0\n",
            "Desconto: 1456.8\n",
            "Venda final:  13111.2\n"
          ]
        }
      ]
    },
    {
      "cell_type": "code",
      "source": [
        "#@title teste\n",
        "# Venda utilizando atribuicao condicional\n",
        "venda = float(input(\"Digite o valor da venda: \"))\n",
        "\n",
        "desconto = venda * 0.10 if(venda > 1000) else 0\n",
        "\n",
        "venda_final = venda - desconto\n",
        "print(\"Venda:\",venda)\n",
        "print(\"Desconto:\",round(desconto,2))\n",
        "print(\"Venda final:\",venda_final)"
      ],
      "metadata": {
        "colab": {
          "base_uri": "https://localhost:8080/"
        },
        "id": "HsViJ_Bt9u3J",
        "outputId": "32dc6188-05cc-476a-e984-1e82bd2780ae"
      },
      "execution_count": null,
      "outputs": [
        {
          "output_type": "stream",
          "name": "stdout",
          "text": [
            "Digite o valor da venda: 12585\n",
            "Venda: 12585.0\n",
            "Desconto: 1258.5\n",
            "Venda final: 11326.5\n"
          ]
        }
      ]
    },
    {
      "cell_type": "code",
      "source": [
        "#@title Calulo IMC\n",
        "\n",
        "altura = float(input(\"Digite a sua altura: \"))\n",
        "peso = float(input(\"Digite o seu peso: \"))\n",
        "\n",
        "imc = peso / (altura ** 2)\n",
        "\n",
        "if(imc < 18.5):\n",
        "  print(\"Abaixo do peso\",imc)\n",
        "elif(imc >=18.5 and imc <=24.9):\n",
        "  print(\"Peso normal\")\n",
        "elif(imc>=25 and imc<=29.9):\n",
        "  print(\"Sobrepeso\")\n",
        "elif(imc>=30 and imc <=34.9):\n",
        "  print(\"Obesidade grau 1\")\n",
        "elif(imc>=35 and imc >=39,9):\n",
        "  print(\"Obesidade grau 2\")\n",
        "elif(imc>=40):\n",
        "  print(\"Obesidade grau 3\")\n",
        "\n"
      ],
      "metadata": {
        "colab": {
          "base_uri": "https://localhost:8080/"
        },
        "id": "3wCL7CkWXx3N",
        "outputId": "6cb8db9f-4ed8-46d2-e60e-8bdf3014102d"
      },
      "execution_count": null,
      "outputs": [
        {
          "output_type": "stream",
          "name": "stdout",
          "text": [
            "Digite a sua altura: 1.77\n",
            "Digite o seu peso: 82\n",
            "Sobrepeso\n"
          ]
        }
      ]
    }
  ]
}