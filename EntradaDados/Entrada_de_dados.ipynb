{
  "nbformat": 4,
  "nbformat_minor": 0,
  "metadata": {
    "colab": {
      "provenance": []
    },
    "kernelspec": {
      "name": "python3",
      "display_name": "Python 3"
    },
    "language_info": {
      "name": "python"
    }
  },
  "cells": [
    {
      "cell_type": "code",
      "execution_count": null,
      "metadata": {
        "colab": {
          "base_uri": "https://localhost:8080/"
        },
        "id": "sLC4S0iBnSZD",
        "outputId": "ea50f0a8-0202-47e2-ca39-eab6f21e5fea"
      },
      "outputs": [
        {
          "output_type": "stream",
          "name": "stdout",
          "text": [
            "Wake up neo\n",
            "\n",
            "The matrix has you...\n"
          ]
        }
      ],
      "source": [
        "print('Wake up neo\\n')\n",
        "print('The matrix has you...')"
      ]
    },
    {
      "cell_type": "code",
      "source": [
        "meu_nome = \"Vitor\"\n",
        "minha_idade = 24\n",
        "meu_salario = 2000.99\n",
        "estou_de_ferias = False\n",
        "\n",
        "print(meu_nome)\n",
        "print(minha_idade)\n",
        "print(meu_salario)\n",
        "print(estou_de_ferias)\n"
      ],
      "metadata": {
        "colab": {
          "base_uri": "https://localhost:8080/"
        },
        "id": "DAqwAYWbwbEL",
        "outputId": "1a77dc96-3f79-47a8-cec9-c9f2ed999880"
      },
      "execution_count": null,
      "outputs": [
        {
          "output_type": "stream",
          "name": "stdout",
          "text": [
            "Vitor\n",
            "24\n",
            "2000.99\n",
            "False\n"
          ]
        }
      ]
    },
    {
      "cell_type": "code",
      "source": [
        "print(type(meu_nome))\n",
        "print(type(minha_idade))\n",
        "print(type(meu_salario))\n",
        "print(type(estou_de_ferias))"
      ],
      "metadata": {
        "colab": {
          "base_uri": "https://localhost:8080/"
        },
        "id": "_GARzkWEyj5D",
        "outputId": "286d8e90-2259-4f3b-d675-31a341536103"
      },
      "execution_count": null,
      "outputs": [
        {
          "output_type": "stream",
          "name": "stdout",
          "text": [
            "<class 'str'>\n",
            "<class 'int'>\n",
            "<class 'float'>\n",
            "<class 'bool'>\n"
          ]
        }
      ]
    },
    {
      "cell_type": "code",
      "source": [
        "#entrada de dados\n",
        "\n",
        "nome = input(\"Digite seu nome: \")\n",
        "idade = input(\"Digite sua idade: \")\n",
        "salario = input(\"Digite seu salario: \")\n",
        "print()\n",
        "print(nome)\n",
        "print(idade)\n",
        "print(salario)\n",
        "\n",
        "print(\"nome\",nome,\"idade\",idade)"
      ],
      "metadata": {
        "colab": {
          "base_uri": "https://localhost:8080/"
        },
        "id": "R6368FkK2niK",
        "outputId": "7a6230d2-eab3-4908-d78a-f7bea9c1f7d1"
      },
      "execution_count": null,
      "outputs": [
        {
          "output_type": "stream",
          "name": "stdout",
          "text": [
            "Digite seu nome: vitor\n",
            "Digite sua idade: 24\n",
            "Digite seu salario: 2000\n",
            "\n",
            "vitor\n",
            "24\n",
            "2000\n",
            "nome vitor iade 24\n"
          ]
        }
      ]
    },
    {
      "cell_type": "code",
      "source": [
        "num1 = int(input('Digite o primeiro numero: '))\n",
        "num2 = int(input('Digite o segundo numero: '))\n",
        "\n",
        "resultado = num1 + num2\n",
        "\n",
        "print(resultado)"
      ],
      "metadata": {
        "colab": {
          "base_uri": "https://localhost:8080/"
        },
        "id": "5IXw7GXY49Xw",
        "outputId": "479a2b5d-d8e5-4daa-9ec8-243be6918bdf"
      },
      "execution_count": null,
      "outputs": [
        {
          "output_type": "stream",
          "name": "stdout",
          "text": [
            "Digite o primeiro numero: 10\n",
            "Digite o segundo numero: 20\n",
            "30\n"
          ]
        }
      ]
    },
    {
      "cell_type": "code",
      "source": [
        "num1 = 50\n",
        "num2 = 20\n",
        "print(\"O primeiro numero e\",num1,\"e o segundo e\",num2)"
      ],
      "metadata": {
        "colab": {
          "base_uri": "https://localhost:8080/"
        },
        "id": "MkWSKzDhD-dV",
        "outputId": "1c31c151-9740-41c3-846e-cfc2ca40352e"
      },
      "execution_count": null,
      "outputs": [
        {
          "output_type": "stream",
          "name": "stdout",
          "text": [
            "O primeiro numero e 50 e o segundo e 20\n"
          ]
        }
      ]
    }
  ]
}