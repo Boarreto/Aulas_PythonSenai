{
  "nbformat": 4,
  "nbformat_minor": 0,
  "metadata": {
    "colab": {
      "provenance": []
    },
    "kernelspec": {
      "name": "python3",
      "display_name": "Python 3"
    },
    "language_info": {
      "name": "python"
    }
  },
  "cells": [
    {
      "cell_type": "code",
      "execution_count": null,
      "metadata": {
        "id": "7J7xi_hJdEI_"
      },
      "outputs": [],
      "source": [
        "#@title estrutura while\n",
        "\n",
        "conta = -100\n",
        "while conta < 0:\n",
        "    print(\"Em debito\")\n",
        "    print(\"Aumentando 10\")\n",
        "    conta = conta + 10\n",
        "    print(\"Conta: \",conta)\n",
        "if(conta==0):\n",
        "    while conta < 1000:\n",
        "      conta = conta + 100\n",
        "      print(\"Aumentando 100\")\n",
        "      print(\"Conta: \",conta)"
      ]
    },
    {
      "cell_type": "code",
      "source": [
        "contador = 0\n",
        "\n",
        "while contador < 10:\n",
        "  contador = contador + 1\n",
        "  print(contador)\n",
        "if contador == 10:\n",
        "  while contador == 10 and:\n",
        "    contador = contador - 1\n",
        "  print(contador)"
      ],
      "metadata": {
        "id": "dXxir_ujigbj"
      },
      "execution_count": null,
      "outputs": []
    }
  ]
}