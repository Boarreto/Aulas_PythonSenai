{
  "nbformat": 4,
  "nbformat_minor": 0,
  "metadata": {
    "colab": {
      "provenance": []
    },
    "kernelspec": {
      "name": "python3",
      "display_name": "Python 3"
    },
    "language_info": {
      "name": "python"
    }
  },
  "cells": [
    {
      "cell_type": "code",
      "execution_count": null,
      "metadata": {
        "colab": {
          "base_uri": "https://localhost:8080/"
        },
        "id": "jlaoVsRj8uhN",
        "outputId": "a551c3fe-3993-4faf-e738-ba5fc7935c1c"
      },
      "outputs": [
        {
          "output_type": "stream",
          "name": "stdout",
          "text": [
            "Digite a nota do aluno 1: 10\n",
            "Digite a nota do aluno 2: 3\n",
            "Digite a nota do aluno 3: 5\n",
            "Digite a nota do aluno 4: 2\n",
            "Alunos abaixo da media:  4\n",
            "10\n",
            "Alunos abaixo da media:  4\n",
            "3\n",
            "Alunos abaixo da media:  4\n",
            "5\n",
            "Alunos abaixo da media:  4\n",
            "2\n",
            "A media da turma e:  5.0\n"
          ]
        }
      ],
      "source": [
        "c = 0\n",
        "nota = 0\n",
        "lista = []\n",
        "totalnota = 0\n",
        "contador = 0\n",
        "\n",
        "while c < 4:\n",
        "  nota = int(input(f\"Digite a nota do aluno {contador + 1}: \"))\n",
        "  lista.append(nota)\n",
        "  contador += 1\n",
        "  totalnota += nota\n",
        "\n",
        "  c = c + 1\n",
        "\n",
        "media = totalnota / contador\n",
        "\n",
        "c = 0\n",
        "while c < 4:\n",
        "  if lista[nota] < 6:\n",
        "    print(\"Alunos abaixo da media: \")\n",
        "    print(lista[c])\n",
        "    c = c + 1\n",
        "print(\"A media da turma e: \", media)\n",
        "\n",
        "\n",
        "\n"
      ]
    }
  ]
}